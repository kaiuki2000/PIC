{
 "cells": [
  {
   "cell_type": "code",
   "execution_count": 1,
   "id": "a73594e0",
   "metadata": {},
   "outputs": [],
   "source": [
    "import h5py\n",
    "import numpy as np\n",
    "import pandas as pd\n",
    "import json\n",
    "import os\n",
    "import matplotlib.pyplot as plt\n",
    "from matplotlib.ticker import MaxNLocator"
   ]
  },
  {
   "cell_type": "code",
   "execution_count": 2,
   "id": "3d453591",
   "metadata": {},
   "outputs": [
    {
     "name": "stderr",
     "output_type": "stream",
     "text": [
      "2022-06-12 18:46:03.989381: W tensorflow/stream_executor/platform/default/dso_loader.cc:64] Could not load dynamic library 'libcudart.so.11.0'; dlerror: libcudart.so.11.0: cannot open shared object file: No such file or directory; LD_LIBRARY_PATH: /home/afonso/root/lib\n",
      "2022-06-12 18:46:03.989412: I tensorflow/stream_executor/cuda/cudart_stub.cc:29] Ignore above cudart dlerror if you do not have a GPU set up on your machine.\n"
     ]
    }
   ],
   "source": [
    "from keras.layers import BatchNormalization\n",
    "from keras.layers import Dense, Activation, Input, add, Dropout\n",
    "from keras.models import Model\n",
    "# from keras.optimizers import Adam <- This wasn't working?\n",
    "from tensorflow.keras.optimizers import Adam\n",
    "from keras.callbacks import ReduceLROnPlateau, Callback"
   ]
  },
  {
   "cell_type": "code",
   "execution_count": 3,
   "id": "ba44ef32",
   "metadata": {},
   "outputs": [],
   "source": [
    "import tensorflow as tf"
   ]
  },
  {
   "cell_type": "code",
   "execution_count": 4,
   "id": "1596fb2a",
   "metadata": {},
   "outputs": [],
   "source": [
    "%load_ext autoreload\n",
    "%autoreload 2"
   ]
  },
  {
   "cell_type": "code",
   "execution_count": 5,
   "id": "e40fbdc5",
   "metadata": {},
   "outputs": [],
   "source": [
    "from plottingFunctions import sigBkgEff"
   ]
  },
  {
   "cell_type": "code",
   "execution_count": 6,
   "id": "3bd71fd2",
   "metadata": {},
   "outputs": [],
   "source": [
    "file_path = \"\""
   ]
  },
  {
   "cell_type": "code",
   "execution_count": 7,
   "id": "b496cec3",
   "metadata": {},
   "outputs": [],
   "source": [
    "trainfile_name = file_path + \"./My_Pb-training_sample-NN.h5\"\n",
    "h5f_train = h5py.File(trainfile_name, 'r')"
   ]
  },
  {
   "cell_type": "code",
   "execution_count": 8,
   "id": "107c84e3",
   "metadata": {},
   "outputs": [],
   "source": [
    "X_train = h5f_train['X_train'][:]\n",
    "Y_train = h5f_train['Y_train'][:]"
   ]
  },
  {
   "cell_type": "code",
   "execution_count": 9,
   "id": "24a9a6c1",
   "metadata": {},
   "outputs": [
    {
     "name": "stdout",
     "output_type": "stream",
     "text": [
      "(154065, 69)\n",
      "(154065, 3)\n"
     ]
    }
   ],
   "source": [
    "# Testing!\n",
    "print(X_train.shape)\n",
    "print(Y_train.shape)"
   ]
  },
  {
   "cell_type": "code",
   "execution_count": 10,
   "id": "d98d94f6",
   "metadata": {},
   "outputs": [],
   "source": [
    "testfile_name = file_path + \"./My_Pb-test-validation_sample-NN.h5\"\n",
    "h5f_test = h5py.File(testfile_name, 'r')"
   ]
  },
  {
   "cell_type": "code",
   "execution_count": 11,
   "id": "d647af0d",
   "metadata": {},
   "outputs": [],
   "source": [
    "X_test = h5f_test['X_test'][:]\n",
    "Y_test = h5f_test['Y_test'][:]\n",
    "# Test train split is something to keep in mind!"
   ]
  },
  {
   "cell_type": "code",
   "execution_count": 12,
   "id": "f1b5f799",
   "metadata": {},
   "outputs": [
    {
     "name": "stdout",
     "output_type": "stream",
     "text": [
      "(750000, 69)\n",
      "(750000, 3)\n"
     ]
    }
   ],
   "source": [
    "# Testing!\n",
    "print(X_test.shape)\n",
    "print(Y_test.shape)"
   ]
  },
  {
   "cell_type": "markdown",
   "id": "2cce346b",
   "metadata": {},
   "source": [
    "In the following the DL1 network is defined"
   ]
  },
  {
   "cell_type": "code",
   "execution_count": 13,
   "id": "84179658",
   "metadata": {},
   "outputs": [
    {
     "name": "stderr",
     "output_type": "stream",
     "text": [
      "2022-06-12 18:46:40.760207: E tensorflow/stream_executor/cuda/cuda_driver.cc:271] failed call to cuInit: CUDA_ERROR_NO_DEVICE: no CUDA-capable device is detected\n",
      "2022-06-12 18:46:40.760350: I tensorflow/stream_executor/cuda/cuda_diagnostics.cc:156] kernel driver does not appear to be running on this host (afonso-OMEN-by-HP-Laptop-15-ce0xx): /proc/driver/nvidia/version does not exist\n",
      "2022-06-12 18:46:40.805341: I tensorflow/core/platform/cpu_feature_guard.cc:151] This TensorFlow binary is optimized with oneAPI Deep Neural Network Library (oneDNN) to use the following CPU instructions in performance-critical operations:  AVX2 FMA\n",
      "To enable them in other operations, rebuild TensorFlow with the appropriate compiler flags.\n"
     ]
    },
    {
     "name": "stdout",
     "output_type": "stream",
     "text": [
      "Model: \"model\"\n",
      "_________________________________________________________________\n",
      " Layer (type)                Output Shape              Param #   \n",
      "=================================================================\n",
      " input_1 (InputLayer)        [(None, 69)]              0         \n",
      "                                                                 \n",
      " dense (Dense)               (None, 72)                5040      \n",
      "                                                                 \n",
      " batch_normalization (BatchN  (None, 72)               288       \n",
      " ormalization)                                                   \n",
      "                                                                 \n",
      " activation (Activation)     (None, 72)                0         \n",
      "                                                                 \n",
      " dropout (Dropout)           (None, 72)                0         \n",
      "                                                                 \n",
      " dense_1 (Dense)             (None, 57)                4161      \n",
      "                                                                 \n",
      " batch_normalization_1 (Batc  (None, 57)               228       \n",
      " hNormalization)                                                 \n",
      "                                                                 \n",
      " activation_1 (Activation)   (None, 57)                0         \n",
      "                                                                 \n",
      " dropout_1 (Dropout)         (None, 57)                0         \n",
      "                                                                 \n",
      " dense_2 (Dense)             (None, 60)                3480      \n",
      "                                                                 \n",
      " batch_normalization_2 (Batc  (None, 60)               240       \n",
      " hNormalization)                                                 \n",
      "                                                                 \n",
      " activation_2 (Activation)   (None, 60)                0         \n",
      "                                                                 \n",
      " dropout_2 (Dropout)         (None, 60)                0         \n",
      "                                                                 \n",
      " dense_3 (Dense)             (None, 48)                2928      \n",
      "                                                                 \n",
      " batch_normalization_3 (Batc  (None, 48)               192       \n",
      " hNormalization)                                                 \n",
      "                                                                 \n",
      " activation_3 (Activation)   (None, 48)                0         \n",
      "                                                                 \n",
      " dropout_3 (Dropout)         (None, 48)                0         \n",
      "                                                                 \n",
      " dense_4 (Dense)             (None, 36)                1764      \n",
      "                                                                 \n",
      " batch_normalization_4 (Batc  (None, 36)               144       \n",
      " hNormalization)                                                 \n",
      "                                                                 \n",
      " activation_4 (Activation)   (None, 36)                0         \n",
      "                                                                 \n",
      " dropout_4 (Dropout)         (None, 36)                0         \n",
      "                                                                 \n",
      " dense_5 (Dense)             (None, 24)                888       \n",
      "                                                                 \n",
      " batch_normalization_5 (Batc  (None, 24)               96        \n",
      " hNormalization)                                                 \n",
      "                                                                 \n",
      " activation_5 (Activation)   (None, 24)                0         \n",
      "                                                                 \n",
      " dropout_5 (Dropout)         (None, 24)                0         \n",
      "                                                                 \n",
      " dense_6 (Dense)             (None, 12)                300       \n",
      "                                                                 \n",
      " batch_normalization_6 (Batc  (None, 12)               48        \n",
      " hNormalization)                                                 \n",
      "                                                                 \n",
      " activation_6 (Activation)   (None, 12)                0         \n",
      "                                                                 \n",
      " dropout_6 (Dropout)         (None, 12)                0         \n",
      "                                                                 \n",
      " dense_7 (Dense)             (None, 6)                 78        \n",
      "                                                                 \n",
      " batch_normalization_7 (Batc  (None, 6)                24        \n",
      " hNormalization)                                                 \n",
      "                                                                 \n",
      " activation_7 (Activation)   (None, 6)                 0         \n",
      "                                                                 \n",
      " dropout_7 (Dropout)         (None, 6)                 0         \n",
      "                                                                 \n",
      " dense_8 (Dense)             (None, 3)                 21        \n",
      "                                                                 \n",
      "=================================================================\n",
      "Total params: 19,920\n",
      "Trainable params: 19,290\n",
      "Non-trainable params: 630\n",
      "_________________________________________________________________\n"
     ]
    }
   ],
   "source": [
    "# Input layer\n",
    "inputs = Input(shape=(X_train.shape[1],))\n",
    "# number of nodes in the different hidden layers\n",
    "l_units = [72, 57, 60, 48, 36, 24, 12, 6]\n",
    "x = inputs\n",
    "# loop to initialise the hidden layers\n",
    "for unit in l_units:\n",
    "    x = Dense(units=unit, activation=\"linear\", kernel_initializer='glorot_uniform')(x) # Activation \"linear\"?\n",
    "    x = BatchNormalization()(x) # Interpreto isto como propriedade da Dense layer (introduz 'batch normalization' -> transforma o output\n",
    "                                # para dar algo de média zero e desvio padrão 1. \"Batch normalization applies a transformation that maintains \n",
    "                                # the mean output close to 0 and the output standard deviation close to 1\" - Keras documentation.\n",
    "            \n",
    "    x = Activation('relu')(x)   # Interpreto isto como propriedade da Dense layer (altera a activation function de \"linear\" para 'relu')\n",
    "    x = Dropout(0.1)(x)         # Could uncomment to introduce dropout (to reduce overfitting if needed)\n",
    "# output layer, using softmax which will return a probability for each jet to be either light, c- or b-jet\n",
    "predictions = Dense(units=3, activation='softmax',\n",
    "                    kernel_initializer='glorot_uniform')(x)\n",
    "\n",
    "model = Model(inputs=inputs, outputs=predictions)\n",
    "model.summary()\n",
    "\n",
    "model_optimizer = Adam(learning_rate=0.01)\n",
    "model.compile(  # loss='mse',\n",
    "    loss='categorical_crossentropy', # categorical_crossentropy: It is used for multi-class classification.\n",
    "    optimizer=model_optimizer,\n",
    "    metrics=['accuracy']\n",
    ")"
   ]
  },
  {
   "cell_type": "code",
   "execution_count": 14,
   "id": "2f24f046",
   "metadata": {},
   "outputs": [],
   "source": [
    "def GetRejection(y_pred, y_true):\n",
    "    \"\"\"Calculates the c and light rejection for 77% WP and 0.018 c-fraction.\"\"\"\n",
    "    b_index, c_index, u_index = 2, 1, 0\n",
    "    cfrac = 0.018\n",
    "    target_beff = 0.77\n",
    "    y_true = np.argmax(y_true, axis=1)\n",
    "    b_jets = y_pred[y_true == b_index]\n",
    "    c_jets = y_pred[y_true == c_index]\n",
    "    u_jets = y_pred[y_true == u_index]\n",
    "    bscores = np.log(b_jets[:, b_index] / (cfrac * b_jets[:, c_index] +\n",
    "                                           (1 - cfrac) * b_jets[:, u_index]))\n",
    "    cutvalue = np.percentile(bscores, 100.0 * (1.0 - target_beff))\n",
    "\n",
    "    c_eff = len(c_jets[np.log(c_jets[:, b_index] / (cfrac * c_jets[:, c_index]\n",
    "                                                    + (1 - cfrac) *\n",
    "                                                    c_jets[:, u_index])) >\n",
    "                       cutvalue]) / float(len(c_jets))\n",
    "    u_eff = len(u_jets[np.log(u_jets[:, b_index] / (cfrac *\n",
    "                                                    u_jets[:, c_index] +\n",
    "                                                    (1 - cfrac) *\n",
    "                                                    u_jets[:, u_index])) >\n",
    "                       cutvalue]) / float(len(u_jets))\n",
    "\n",
    "    if c_eff == 0 or u_eff == 0:\n",
    "        return -1, -1\n",
    "    return 1. / c_eff, 1. / u_eff\n",
    "\n",
    "\n",
    "class MyCallback(Callback):\n",
    "    \"\"\"Custom callback function calculating per epoch light and c-rejection and saves the model of each epoch.\"\"\"\n",
    "    def __init__(self, X_valid=0, Y_valid=0,\n",
    "                 model_name='test', store_all=False):\n",
    "        self.X_valid = X_valid\n",
    "        self.Y_valid = Y_valid\n",
    "        self.result = []\n",
    "        self.model_name = model_name\n",
    "        os.system(\"mkdir -p %s\" % self.model_name)\n",
    "        self.dict_list = []\n",
    "        self.store_all = store_all\n",
    "\n",
    "    def on_epoch_end(self, epoch, logs=None):\n",
    "        if self.store_all:\n",
    "            self.model.save('%s/model_epoch%i.h5' % (self.model_name, epoch))\n",
    "        y_pred = self.model.predict(self.X_valid, batch_size=5000)\n",
    "        c_rej, u_rej = GetRejection(y_pred, self.Y_valid)\n",
    "        dict_epoch = {\n",
    "            \"epoch\": epoch,\n",
    "            \"loss\": float(logs['loss']),\n",
    "            \"acc\": float(logs['accuracy']),\n",
    "            \"val_loss\": float(logs['val_loss']),\n",
    "            \"val_acc\": float(logs['val_accuracy']),\n",
    "            \"c_rej\": c_rej,\n",
    "            \"u_rej\": u_rej\n",
    "        }\n",
    "\n",
    "        self.dict_list.append(dict_epoch)\n",
    "        with open('%s/DictFile.json' % self.model_name, 'w') as outfile:\n",
    "            json.dump(self.dict_list, outfile, indent=4)"
   ]
  },
  {
   "cell_type": "code",
   "execution_count": 15,
   "id": "1fbb8748",
   "metadata": {},
   "outputs": [
    {
     "name": "stdout",
     "output_type": "stream",
     "text": [
      "Epoch 1/10\n",
      "52/52 [==============================] - 6s 62ms/step - loss: 0.4535 - accuracy: 0.8262 - val_loss: 0.3576 - val_accuracy: 0.9394 - lr: 0.0100\n",
      "Epoch 2/10\n",
      " 7/52 [===>..........................] - ETA: 1s - loss: 0.1341 - accuracy: 0.9769"
     ]
    },
    {
     "name": "stderr",
     "output_type": "stream",
     "text": [
      "/tmp/ipykernel_25900/3192878355.py:14: RuntimeWarning: divide by zero encountered in true_divide\n",
      "  c_eff = len(c_jets[np.log(c_jets[:, b_index] / (cfrac * c_jets[:, c_index]\n"
     ]
    },
    {
     "name": "stdout",
     "output_type": "stream",
     "text": [
      "52/52 [==============================] - 3s 63ms/step - loss: 0.1158 - accuracy: 0.9785 - val_loss: 0.4125 - val_accuracy: 0.9592 - lr: 0.0100\n",
      "Epoch 3/10\n",
      "52/52 [==============================] - 3s 57ms/step - loss: 0.0766 - accuracy: 0.9834 - val_loss: 0.0816 - val_accuracy: 0.9897 - lr: 0.0100\n",
      "Epoch 4/10\n",
      " 7/52 [===>..........................] - ETA: 0s - loss: 0.0583 - accuracy: 0.9871"
     ]
    },
    {
     "name": "stderr",
     "output_type": "stream",
     "text": [
      "/tmp/ipykernel_25900/3192878355.py:14: RuntimeWarning: divide by zero encountered in log\n",
      "  c_eff = len(c_jets[np.log(c_jets[:, b_index] / (cfrac * c_jets[:, c_index]\n"
     ]
    },
    {
     "name": "stdout",
     "output_type": "stream",
     "text": [
      "52/52 [==============================] - 3s 59ms/step - loss: 0.0559 - accuracy: 0.9876 - val_loss: 0.1019 - val_accuracy: 0.9826 - lr: 0.0100\n",
      "Epoch 5/10\n",
      "52/52 [==============================] - 4s 69ms/step - loss: 0.0498 - accuracy: 0.9876 - val_loss: 0.0388 - val_accuracy: 0.9926 - lr: 0.0100\n",
      "Epoch 6/10\n",
      "52/52 [==============================] - 3s 63ms/step - loss: 0.0454 - accuracy: 0.9883 - val_loss: 0.0275 - val_accuracy: 0.9945 - lr: 0.0100\n",
      "Epoch 7/10\n",
      "52/52 [==============================] - 3s 49ms/step - loss: 0.0389 - accuracy: 0.9898 - val_loss: 0.0316 - val_accuracy: 0.9934 - lr: 0.0100\n",
      "Epoch 8/10\n",
      "52/52 [==============================] - 3s 51ms/step - loss: 0.0392 - accuracy: 0.9894 - val_loss: 0.0239 - val_accuracy: 0.9945 - lr: 0.0100\n",
      "Epoch 9/10\n",
      "52/52 [==============================] - 3s 51ms/step - loss: 0.0361 - accuracy: 0.9904 - val_loss: 0.0327 - val_accuracy: 0.9929 - lr: 0.0100\n",
      "Epoch 10/10\n",
      "52/52 [==============================] - 3s 56ms/step - loss: 0.0361 - accuracy: 0.9904 - val_loss: 0.1514 - val_accuracy: 0.9819 - lr: 0.0100\n"
     ]
    },
    {
     "data": {
      "text/plain": [
       "<keras.callbacks.History at 0x7f3f52b66b50>"
      ]
     },
     "execution_count": 15,
     "metadata": {},
     "output_type": "execute_result"
    }
   ],
   "source": [
    "reduce_lr = ReduceLROnPlateau(monitor='loss', factor=0.2, # Reduce learning rate when a metric has stopped improving.\n",
    "                              patience=5, min_lr=0.00001)\n",
    "my_callback = MyCallback(X_valid=X_test,\n",
    "                         Y_valid=Y_test,\n",
    "                         model_name=\"DL1_example\"\n",
    "#                         ,store_all=True #flag to store model of each epoch\n",
    "                        )\n",
    "\n",
    "callbacks = [reduce_lr, my_callback]\n",
    "\n",
    "model.fit(X_train, Y_train,\n",
    "          validation_data = [X_test[:], Y_test[:]],\n",
    "          epochs=10, # typically ~130 are necessary to converge\n",
    "          batch_size=3000,\n",
    "          callbacks=callbacks,\n",
    "          )"
   ]
  },
  {
   "cell_type": "code",
   "execution_count": 16,
   "id": "524a234d",
   "metadata": {},
   "outputs": [
    {
     "data": {
      "text/html": [
       "<div>\n",
       "<style scoped>\n",
       "    .dataframe tbody tr th:only-of-type {\n",
       "        vertical-align: middle;\n",
       "    }\n",
       "\n",
       "    .dataframe tbody tr th {\n",
       "        vertical-align: top;\n",
       "    }\n",
       "\n",
       "    .dataframe thead th {\n",
       "        text-align: right;\n",
       "    }\n",
       "</style>\n",
       "<table border=\"1\" class=\"dataframe\">\n",
       "  <thead>\n",
       "    <tr style=\"text-align: right;\">\n",
       "      <th></th>\n",
       "      <th>epoch</th>\n",
       "      <th>loss</th>\n",
       "      <th>acc</th>\n",
       "      <th>val_loss</th>\n",
       "      <th>val_acc</th>\n",
       "      <th>c_rej</th>\n",
       "      <th>u_rej</th>\n",
       "    </tr>\n",
       "  </thead>\n",
       "  <tbody>\n",
       "    <tr>\n",
       "      <th>0</th>\n",
       "      <td>0</td>\n",
       "      <td>0.453537</td>\n",
       "      <td>0.826164</td>\n",
       "      <td>0.357593</td>\n",
       "      <td>0.939449</td>\n",
       "      <td>2688.172043</td>\n",
       "      <td>83333.333333</td>\n",
       "    </tr>\n",
       "    <tr>\n",
       "      <th>1</th>\n",
       "      <td>1</td>\n",
       "      <td>0.115757</td>\n",
       "      <td>0.978490</td>\n",
       "      <td>0.412532</td>\n",
       "      <td>0.959224</td>\n",
       "      <td>4464.285714</td>\n",
       "      <td>83333.333333</td>\n",
       "    </tr>\n",
       "    <tr>\n",
       "      <th>2</th>\n",
       "      <td>2</td>\n",
       "      <td>0.076585</td>\n",
       "      <td>0.983351</td>\n",
       "      <td>0.081602</td>\n",
       "      <td>0.989691</td>\n",
       "      <td>5208.333333</td>\n",
       "      <td>125000.000000</td>\n",
       "    </tr>\n",
       "    <tr>\n",
       "      <th>3</th>\n",
       "      <td>3</td>\n",
       "      <td>0.055921</td>\n",
       "      <td>0.987603</td>\n",
       "      <td>0.101879</td>\n",
       "      <td>0.982643</td>\n",
       "      <td>5434.782609</td>\n",
       "      <td>125000.000000</td>\n",
       "    </tr>\n",
       "    <tr>\n",
       "      <th>4</th>\n",
       "      <td>4</td>\n",
       "      <td>0.049763</td>\n",
       "      <td>0.987596</td>\n",
       "      <td>0.038843</td>\n",
       "      <td>0.992603</td>\n",
       "      <td>5813.953488</td>\n",
       "      <td>125000.000000</td>\n",
       "    </tr>\n",
       "    <tr>\n",
       "      <th>5</th>\n",
       "      <td>5</td>\n",
       "      <td>0.045367</td>\n",
       "      <td>0.988336</td>\n",
       "      <td>0.027547</td>\n",
       "      <td>0.994541</td>\n",
       "      <td>5681.818182</td>\n",
       "      <td>83333.333333</td>\n",
       "    </tr>\n",
       "    <tr>\n",
       "      <th>6</th>\n",
       "      <td>6</td>\n",
       "      <td>0.038945</td>\n",
       "      <td>0.989784</td>\n",
       "      <td>0.031567</td>\n",
       "      <td>0.993447</td>\n",
       "      <td>6250.000000</td>\n",
       "      <td>125000.000000</td>\n",
       "    </tr>\n",
       "    <tr>\n",
       "      <th>7</th>\n",
       "      <td>7</td>\n",
       "      <td>0.039158</td>\n",
       "      <td>0.989388</td>\n",
       "      <td>0.023944</td>\n",
       "      <td>0.994515</td>\n",
       "      <td>5208.333333</td>\n",
       "      <td>125000.000000</td>\n",
       "    </tr>\n",
       "    <tr>\n",
       "      <th>8</th>\n",
       "      <td>8</td>\n",
       "      <td>0.036101</td>\n",
       "      <td>0.990387</td>\n",
       "      <td>0.032720</td>\n",
       "      <td>0.992901</td>\n",
       "      <td>6097.560976</td>\n",
       "      <td>125000.000000</td>\n",
       "    </tr>\n",
       "    <tr>\n",
       "      <th>9</th>\n",
       "      <td>9</td>\n",
       "      <td>0.036104</td>\n",
       "      <td>0.990413</td>\n",
       "      <td>0.151448</td>\n",
       "      <td>0.981871</td>\n",
       "      <td>6097.560976</td>\n",
       "      <td>250000.000000</td>\n",
       "    </tr>\n",
       "  </tbody>\n",
       "</table>\n",
       "</div>"
      ],
      "text/plain": [
       "   epoch      loss       acc  val_loss   val_acc        c_rej          u_rej\n",
       "0      0  0.453537  0.826164  0.357593  0.939449  2688.172043   83333.333333\n",
       "1      1  0.115757  0.978490  0.412532  0.959224  4464.285714   83333.333333\n",
       "2      2  0.076585  0.983351  0.081602  0.989691  5208.333333  125000.000000\n",
       "3      3  0.055921  0.987603  0.101879  0.982643  5434.782609  125000.000000\n",
       "4      4  0.049763  0.987596  0.038843  0.992603  5813.953488  125000.000000\n",
       "5      5  0.045367  0.988336  0.027547  0.994541  5681.818182   83333.333333\n",
       "6      6  0.038945  0.989784  0.031567  0.993447  6250.000000  125000.000000\n",
       "7      7  0.039158  0.989388  0.023944  0.994515  5208.333333  125000.000000\n",
       "8      8  0.036101  0.990387  0.032720  0.992901  6097.560976  125000.000000\n",
       "9      9  0.036104  0.990413  0.151448  0.981871  6097.560976  250000.000000"
      ]
     },
     "execution_count": 16,
     "metadata": {},
     "output_type": "execute_result"
    }
   ],
   "source": [
    "df_results = pd.read_json(\"DL1_example/DictFile.json\")\n",
    "df_results"
   ]
  },
  {
   "cell_type": "code",
   "execution_count": 17,
   "id": "c1bf3548",
   "metadata": {},
   "outputs": [
    {
     "data": {
      "image/png": "[encoded data removed]",
      "text/plain": [
       "<Figure size 432x288 with 1 Axes>"
      ]
     },
     "metadata": {
      "needs_background": "light"
     },
     "output_type": "display_data"
    }
   ],
   "source": [
    "plt.plot(df_results['epoch'],df_results['loss'], label='training loss - hybrid sample')\n",
    "plt.plot(df_results['epoch'],df_results['val_loss'], label='validation loss - ttbar sample')\n",
    "plt.legend()\n",
    "plt.xlabel('Epoch')\n",
    "plt.ylabel('loss')\n",
    "plt.show()"
   ]
  },
  {
   "cell_type": "code",
   "execution_count": 18,
   "id": "803e18c9",
   "metadata": {},
   "outputs": [
    {
     "data": {
      "image/png": "[encoded data removed]",
      "text/plain": [
       "<Figure size 432x288 with 2 Axes>"
      ]
     },
     "metadata": {
      "needs_background": "light"
     },
     "output_type": "display_data"
    }
   ],
   "source": [
    "fig, ax1 = plt.subplots()\n",
    "\n",
    "color = 'tab:red'\n",
    "ax1.set_xlabel('epoch')\n",
    "ax1.set_ylabel('light flavour jet rejection', color=color)\n",
    "ax1.plot(df_results[\"epoch\"],df_results['u_rej'], '--', color=color)\n",
    "ax1.tick_params(axis='y', labelcolor=color)\n",
    "\n",
    "ax2 = ax1.twinx()  # instantiate a second axes that shares the same x-axis\n",
    "\n",
    "color = 'tab:blue'\n",
    "ax2.set_ylabel(r'$c$-jet rejection', color=color)  # we already handled the x-label with ax1\n",
    "ax2.plot(df_results[\"epoch\"], df_results['c_rej'], ':', color=color, label='std = 0.12')\n",
    "ax2.tick_params(axis='y', labelcolor=color)\n",
    "\n",
    "ax1.xaxis.set_major_locator(MaxNLocator(integer=True))\n",
    "\n",
    "fig.tight_layout()"
   ]
  },
  {
   "cell_type": "markdown",
   "id": "4b4f3e49",
   "metadata": {},
   "source": [
    "## Hyper parameter optimisation\n",
    "You can play with different hyper parameters and see their impact.\n",
    "The largest impact has the NN-structure itself, you can try changing the number of hidden layers and their number of nodes\n",
    "Other hyper parameters are the learning rate, activation function, batch size\n"
   ]
  },
  {
   "cell_type": "markdown",
   "id": "6a29de91",
   "metadata": {},
   "source": [
    "## Model Evaluation"
   ]
  },
  {
   "cell_type": "code",
   "execution_count": 19,
   "id": "96e19830",
   "metadata": {},
   "outputs": [],
   "source": [
    "b_effs = np.linspace(0.39, 1, 150)\n",
    "# l_rej = 1./np.load(\"DL1r-extbeff-22M.npy\", allow_pickle=True).item().get('urej') # This will also be a problem! Remember! Actually, I guess, we can just ignore these\n",
    "# c_rej = 1./np.load(\"DL1r-extbeff-22M.npy\", allow_pickle=True).item().get('crej') # 'recommendations', and it'll be fine. I hope. I should ask the teacher...\n",
    "\n",
    "# l_rej_Z = 1./np.load(\"DL1r-extbeff-22M-ext-Zprime.npy\", allow_pickle=True).item().get('urej')\n",
    "# c_rej_Z = 1./np.load(\"DL1r-extbeff-22M-ext-Zprime.npy\", allow_pickle=True).item().get('crej')"
   ]
  },
  {
   "cell_type": "code",
   "execution_count": 20,
   "id": "7a29351d",
   "metadata": {},
   "outputs": [],
   "source": [
    "# To draw the roc curves faster, look at a subset of the test dataset. \n",
    "nTest = 50000"
   ]
  },
  {
   "cell_type": "code",
   "execution_count": 21,
   "id": "b0b94a42",
   "metadata": {},
   "outputs": [
    {
     "name": "stdout",
     "output_type": "stream",
     "text": [
      "./My_Pb-test-validation_sample-NN.h5\n",
      "1563/1563 [==============================] - 3s 2ms/step\n"
     ]
    },
    {
     "data": {
      "image/png": "[encoded data removed]",
      "text/plain": [
       "<Figure size 432x288 with 1 Axes>"
      ]
     },
     "metadata": {
      "needs_background": "light"
     },
     "output_type": "display_data"
    }
   ],
   "source": [
    "dl1_leffs, dl1_ceffs, dl1_beffs, dl1_discs = [], [], [], []\n",
    "\n",
    "for testfile_name in [file_path+\"./My_Pb-test-validation_sample-NN.h5\"]:\n",
    "    \n",
    "    print(testfile_name)\n",
    "    h5f_test = h5py.File(testfile_name, 'r')\n",
    "\n",
    "    X_test = h5f_test['X_test'][500000:]\n",
    "    y_test = h5f_test['Y_test'][500000:]\n",
    "    \n",
    "    h5f_test.close()\n",
    "\n",
    "    (leff, ceff, beff), d = sigBkgEff(model, X_test[:nTest], y_test[:nTest], returnDisc=True, fc=0.018)\n",
    "     \n",
    "    dl1_leffs.append(leff)\n",
    "    dl1_ceffs.append(ceff)\n",
    "    dl1_beffs.append(beff)\n",
    "    dl1_discs.append(d)"
   ]
  },
  {
   "cell_type": "code",
   "execution_count": 22,
   "id": "4b87e96a",
   "metadata": {},
   "outputs": [
    {
     "name": "stderr",
     "output_type": "stream",
     "text": [
      "/tmp/ipykernel_25900/2656432645.py:3: RuntimeWarning: divide by zero encountered in true_divide\n",
      "  plt.plot(dl1_beffs[0], 1 / dl1_leffs[0], color='C4', label='l-rej')\n",
      "/tmp/ipykernel_25900/2656432645.py:7: RuntimeWarning: divide by zero encountered in true_divide\n",
      "  plt.plot(dl1_beffs[0], 1 / dl1_ceffs[0],\"--\", color='C4', label='c-rej')\n",
      "/tmp/ipykernel_25900/2656432645.py:17: UserWarning: Attempted to set non-positive bottom ylim on a log-scaled axis.\n",
      "Invalid limit will be ignored.\n",
      "  plt.ylim(0,3000)\n"
     ]
    },
    {
     "data": {
      "image/png": "[encoded data removed]",
      "text/plain": [
       "<Figure size 432x288 with 1 Axes>"
      ]
     },
     "metadata": {
      "needs_background": "light"
     },
     "output_type": "display_data"
    }
   ],
   "source": [
    "# Pb+Pb\n",
    "plt.figure()\n",
    "plt.plot(dl1_beffs[0], 1 / dl1_leffs[0], color='C4', label='l-rej')\n",
    "# plt.plot(b_effs, 1./l_rej, color='C2', label='l-rej - new recommendations')\n",
    "\n",
    "# plt.figure()\n",
    "plt.plot(dl1_beffs[0], 1 / dl1_ceffs[0],\"--\", color='C4', label='c-rej')\n",
    "# plt.plot(b_effs, 1./c_rej, \"--\", color='C2', label='c-rej - new recommendations')\n",
    "\n",
    "plt.ylabel('Background-Rej')\n",
    "plt.xlabel(r'$\\epsilon_b$')\n",
    "\n",
    "plt.legend()\n",
    "plt.title(r'$Pb+Pb$ - DL1r')\n",
    "plt.yscale(\"log\")\n",
    "plt.xlim(0.6,1)\n",
    "plt.ylim(0,3000)\n",
    "\n",
    "plt.show()"
   ]
  }
 ],
 "metadata": {
  "interpreter": {
   "hash": "cbd382e0d726dea6e1cac3fc7270eac95169b42d7d4c3a2b1494b335ff623a0e"
  },
  "kernelspec": {
   "display_name": "Python 3.8.10 ('PIC_venv': venv)",
   "language": "python",
   "name": "python3"
  },
  "language_info": {
   "codemirror_mode": {
    "name": "ipython",
    "version": 3
   },
   "file_extension": ".py",
   "mimetype": "text/x-python",
   "name": "python",
   "nbconvert_exporter": "python",
   "pygments_lexer": "ipython3",
   "version": "3.8.10"
  }
 },
 "nbformat": 4,
 "nbformat_minor": 5
}
