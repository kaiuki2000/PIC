{
 "cells": [
  {
   "cell_type": "code",
   "execution_count": 1,
   "metadata": {},
   "outputs": [],
   "source": [
    "import h5py\n",
    "import numpy as np"
   ]
  },
  {
   "cell_type": "code",
   "execution_count": 85,
   "metadata": {},
   "outputs": [],
   "source": [
    "# f.close()"
   ]
  },
  {
   "cell_type": "code",
   "execution_count": 86,
   "metadata": {},
   "outputs": [],
   "source": [
    "# f = h5py.File(\"mytestfile.hdf5\",\"w\")\n",
    "# A = [[1, 2, 3], [4, 5, 6], [7, 8, 9],[10, 11, 12]]\n",
    "# dset = f.create_dataset(\"MyDataSet\", data = A)\n",
    "# f.close()\n",
    "\n",
    "A = [[1, 2, 3], [4, 5, 6], [7, 8, 9], [10, 11, 12]]\n",
    "\n",
    "with h5py.File(\"mytestfile.hdf5\",\"w\") as f:\n",
    "    dset = f.create_dataset(\"MyDataSet\", data = A)"
   ]
  },
  {
   "cell_type": "code",
   "execution_count": 88,
   "metadata": {},
   "outputs": [
    {
     "name": "stdout",
     "output_type": "stream",
     "text": [
      "Full rdset:\n",
      "[[ 1  2  3]\n",
      " [ 4  5  6]\n",
      " [ 7  8  9]\n",
      " [10 11 12]]\n",
      "\n",
      "[[ 1  3]\n",
      " [ 4  6]\n",
      " [ 7  9]\n",
      " [10 12]]\n",
      "\n",
      "rdset.shape = 3\n"
     ]
    }
   ],
   "source": [
    "rf = h5py.File(\"mytestfile.hdf5\",\"r\")\n",
    "rdset = rf['MyDataSet']\n",
    "\n",
    "print(f'Full rdset:\\n{rdset[...]}\\n')\n",
    "print(rdset[:,::2]) # Testing slicing...\n",
    "print(f'\\nrdset.shape = {rdset.shape[1]}')\n",
    "\n",
    "rf.close()\n"
   ]
  },
  {
   "cell_type": "code",
   "execution_count": 21,
   "metadata": {},
   "outputs": [
    {
     "name": "stdout",
     "output_type": "stream",
     "text": [
      "import h5py\n",
      "import numpy as np\n",
      "filename = 'user.jodapalm.28858736._000001.output.h5'\n",
      "jets = h5py.File(filename, 'r')['jets'][0:50000]\n",
      "print(jets)\n",
      "filename = 'user.jodapalm.28858736._000001.output.h5'\n",
      "jets = h5py.File(filename, 'r')['jets'][0:50000]\n",
      "print(jets.shape)\n",
      "filename = 'user.jodapalm.28858736._000001.output.h5'\n",
      "jets = h5py.File(filename, 'r')['jets']\n",
      "tracks = h5py.File(filename, 'r')['tracks']\n",
      "\n",
      "print(jets.shape)\n",
      "print(tracks.shape)\n",
      "filename = 'user.jodapalm.28858736._000001.output.h5'\n",
      "jets = h5py.File(filename, 'r')['jets'][0:50000]\n",
      "tracks = h5py.File(filename, 'r')['tracks'][0:50000]\n",
      "\n",
      "print(jets.shape)\n",
      "print(tracks.shape)\n",
      "filename = 'user.jodapalm.28858736._000001.output.h5'\n",
      "jets = h5py.File(filename, 'r')['jets'][0:50000]\n",
      "tracks = h5py.File(filename, 'r')['tracks'][0:50000]\n",
      "\n",
      "print(jets.shape)\n",
      "print(jets.size)\n",
      "print(type(jets))\n",
      "\n",
      "print(tracks.shape)\n",
      "print(tracks.size)\n",
      "print(type(tracks))\n",
      "filename = 'user.jodapalm.28858736._000001.output.h5'\n",
      "jets = h5py.File(filename, 'r')['jets'][0:50000]\n",
      "tracks = h5py.File(filename, 'r')['tracks'][0:50000]\n",
      "\n",
      "print(jets.shape)\n",
      "print(jets.size)\n",
      "print(type(jets))\n",
      "\n",
      "print(tracks.shape)\n",
      "print(tracks.size)\n",
      "print(type(tracks))\n",
      "\n",
      "\n",
      "jets_full = np.array()\n",
      "filename = 'user.jodapalm.28858736._000001.output.h5'\n",
      "jets = h5py.File(filename, 'r')['jets'][0:50000]\n",
      "tracks = h5py.File(filename, 'r')['tracks'][0:50000]\n",
      "\n",
      "print(jets.shape)\n",
      "print(jets.size)\n",
      "print(type(jets))\n",
      "\n",
      "print(tracks.shape)\n",
      "print(tracks.size)\n",
      "print(type(tracks))\n",
      "\n",
      "\n",
      "jets_full = np.array([])\n",
      "filename = 'user.jodapalm.28858736._000001.output.h5'\n",
      "jets = h5py.File(filename, 'r')['jets'][0:50000]\n",
      "tracks = h5py.File(filename, 'r')['tracks'][0:50000]\n",
      "\n",
      "print(jets.shape)\n",
      "print(jets.size)\n",
      "print(type(jets))\n",
      "\n",
      "print(tracks.shape)\n",
      "print(tracks.size)\n",
      "print(type(tracks))\n",
      "\n",
      "\n",
      "jets_full = np.array([])\n",
      "jets_full = np.stack((jets_full, jets), 0)\n",
      "filename = 'user.jodapalm.28858736._000001.output.h5'\n",
      "jets = h5py.File(filename, 'r')['jets'][0:50000]\n",
      "tracks = h5py.File(filename, 'r')['tracks'][0:50000]\n",
      "\n",
      "print(jets.shape)\n",
      "print(jets.size)\n",
      "print(type(jets))\n",
      "\n",
      "print(tracks.shape)\n",
      "print(tracks.size)\n",
      "print(type(tracks))\n",
      "\n",
      "\n",
      "jets_full = np.array([])\n",
      "jets_full = np.stack((jets_full, jets), axis = 0)\n",
      "filename = 'user.jodapalm.28858736._000001.output.h5'\n",
      "jets1 = h5py.File(filename, 'r')['jets'][0:50000]\n",
      "tracks1 = h5py.File(filename, 'r')['tracks'][0:50000]\n",
      "\n",
      "jets2 = h5py.File(filename, 'r')['jets'][50000:100000]\n",
      "tracks2= h5py.File(filename, 'r')['tracks'][50000:100000]\n",
      "\n",
      "print(jets1.shape)\n",
      "print(jets1.size)\n",
      "print(type(jets1))\n",
      "\n",
      "print(tracks1.shape)\n",
      "print(tracks1.size)\n",
      "print(type(tracks1))\n",
      "\n",
      "\n",
      "jets_full = np.stack((jets1, jets2), axis = 0)\n",
      "filename = 'user.jodapalm.28858736._000001.output.h5'\n",
      "jets1 = h5py.File(filename, 'r')['jets'][0:50000]\n",
      "tracks1 = h5py.File(filename, 'r')['tracks'][0:50000]\n",
      "\n",
      "jets2 = h5py.File(filename, 'r')['jets'][50000:100000]\n",
      "tracks2= h5py.File(filename, 'r')['tracks'][50000:100000]\n",
      "\n",
      "print(jets1.shape)\n",
      "print(jets1.size)\n",
      "print(type(jets1))\n",
      "\n",
      "print(tracks1.shape)\n",
      "print(tracks1.size)\n",
      "print(type(tracks1))\n",
      "\n",
      "\n",
      "jets_full = np.stack((jets1, jets2), axis = 0)\n",
      "print(jets_full)\n",
      "filename = 'user.jodapalm.28858736._000001.output.h5'\n",
      "jets1 = h5py.File(filename, 'r')['jets'][0:50000]\n",
      "tracks1 = h5py.File(filename, 'r')['tracks'][0:50000]\n",
      "\n",
      "jets2 = h5py.File(filename, 'r')['jets'][50000:100000]\n",
      "tracks2= h5py.File(filename, 'r')['tracks'][50000:100000]\n",
      "\n",
      "print(jets1.shape)\n",
      "print(jets1.size)\n",
      "print(type(jets1))\n",
      "\n",
      "print(tracks1.shape)\n",
      "print(tracks1.size)\n",
      "print(type(tracks1))\n",
      "\n",
      "\n",
      "jets_full = np.stack((jets1, jets2), axis = 0)\n",
      "print(jets_full.shape)\n",
      "print(jets_full.size)\n",
      "print(type(jets_full))\n",
      "filename = 'user.jodapalm.28858736._000001.output.h5'\n",
      "jets1 = h5py.File(filename, 'r')['jets'][0:50000]\n",
      "tracks1 = h5py.File(filename, 'r')['tracks'][0:50000]\n",
      "\n",
      "jets2 = h5py.File(filename, 'r')['jets'][50000:100000]\n",
      "tracks2= h5py.File(filename, 'r')['tracks'][50000:100000]\n",
      "\n",
      "print(jets1.shape)\n",
      "print(jets1.size)\n",
      "print(type(jets1))\n",
      "\n",
      "print(tracks1.shape)\n",
      "print(tracks1.size)\n",
      "print(type(tracks1))\n",
      "\n",
      "\n",
      "print()\n",
      "jets_full = np.stack((jets1, jets2), axis = 0)\n",
      "print(jets_full.shape)\n",
      "print(jets_full.size)\n",
      "print(type(jets_full))\n",
      "filename = 'user.jodapalm.28858736._000001.output.h5'\n",
      "jets1 = h5py.File(filename, 'r')['jets'][0:50000]\n",
      "tracks1 = h5py.File(filename, 'r')['tracks'][0:50000]\n",
      "\n",
      "jets2 = h5py.File(filename, 'r')['jets'][50000:100000]\n",
      "tracks2= h5py.File(filename, 'r')['tracks'][50000:100000]\n",
      "\n",
      "print(jets1.shape)\n",
      "print(jets1.size)\n",
      "print(type(jets1))\n",
      "\n",
      "print(tracks1.shape)\n",
      "print(tracks1.size)\n",
      "print(type(tracks1))\n",
      "\n",
      "\n",
      "print()\n",
      "jets_full = np.stack((jets1, jets2), axis = 1)\n",
      "print(jets_full.shape)\n",
      "print(jets_full.size)\n",
      "print(type(jets_full))\n",
      "filename = 'user.jodapalm.28858736._000001.output.h5'\n",
      "jets1 = h5py.File(filename, 'r')['jets'][0:50000]\n",
      "tracks1 = h5py.File(filename, 'r')['tracks'][0:50000]\n",
      "\n",
      "jets2 = h5py.File(filename, 'r')['jets'][50000:100000]\n",
      "tracks2= h5py.File(filename, 'r')['tracks'][50000:100000]\n",
      "\n",
      "print(jets1.shape)\n",
      "print(jets1.size)\n",
      "print(type(jets1))\n",
      "\n",
      "print(tracks1.shape)\n",
      "print(tracks1.size)\n",
      "print(type(tracks1))\n",
      "\n",
      "\n",
      "print()\n",
      "jets_full = np.insert(jets1, jets2, axis = 1)\n",
      "print(jets_full.shape)\n",
      "print(jets_full.size)\n",
      "print(type(jets_full))\n",
      "filename = 'user.jodapalm.28858736._000001.output.h5'\n",
      "jets1 = h5py.File(filename, 'r')['jets'][0:50000]\n",
      "tracks1 = h5py.File(filename, 'r')['tracks'][0:50000]\n",
      "\n",
      "jets2 = h5py.File(filename, 'r')['jets'][50000:100000]\n",
      "tracks2= h5py.File(filename, 'r')['tracks'][50000:100000]\n",
      "\n",
      "print(jets1.shape)\n",
      "print(jets1.size)\n",
      "print(type(jets1))\n",
      "\n",
      "print(tracks1.shape)\n",
      "print(tracks1.size)\n",
      "print(type(tracks1))\n",
      "\n",
      "\n",
      "print()\n",
      "jets_full = np.append(jets1, jets2, axis = 0)\n",
      "print(jets_full.shape)\n",
      "print(jets_full.size)\n",
      "print(type(jets_full))\n",
      "filename = 'user.jodapalm.28858736._000001.output.h5'\n",
      "jets1 = h5py.File(filename, 'r')['jets'][0:50000]\n",
      "tracks1 = h5py.File(filename, 'r')['tracks'][0:50000]\n",
      "\n",
      "jets2 = h5py.File(filename, 'r')['jets'][50000:100000]\n",
      "tracks2= h5py.File(filename, 'r')['tracks'][50000:100000]\n",
      "\n",
      "print(jets1.shape)\n",
      "print(jets1.size)\n",
      "print(type(jets1))\n",
      "\n",
      "print(tracks1.shape)\n",
      "print(tracks1.size)\n",
      "print(type(tracks1))\n",
      "\n",
      "\n",
      "print()\n",
      "jets_full = np.append(jets1, jets2, axis = 0)\n",
      "print(jets_full.shape)\n",
      "print(jets_full.size)\n",
      "print(type(jets_full))\n",
      "print(jets_full)\n",
      "filename = 'user.jodapalm.28858736._000001.output.h5'\n",
      "\n",
      "jets = h5py.File(filename, 'r')['jets'][:]\n",
      "tracks = h5py.File(filename, 'r')['tracks'][:]\n",
      "print(jets.shape)\n",
      "print(jets.size)\n",
      "print(type(jets))\n",
      "\n",
      "jets1 = h5py.File(filename, 'r')['jets'][0:50000]\n",
      "tracks1 = h5py.File(filename, 'r')['tracks'][0:50000]\n",
      "\n",
      "jets2 = h5py.File(filename, 'r')['jets'][50000:100000]\n",
      "tracks2= h5py.File(filename, 'r')['tracks'][50000:100000]\n",
      "\n",
      "print()\n",
      "print(jets1.shape)\n",
      "print(jets1.size)\n",
      "print(type(jets1))\n",
      "\n",
      "print()\n",
      "print(tracks1.shape)\n",
      "print(tracks1.size)\n",
      "print(type(tracks1))\n",
      "\n",
      "\n",
      "print()\n",
      "jets_full = np.append(jets1, jets2, axis = 0)\n",
      "print(jets_full.shape)\n",
      "print(jets_full.size)\n",
      "print(type(jets_full))\n",
      "filename = 'user.jodapalm.28858736._000001.output.h5'\n",
      "\n",
      "jets = h5py.File(filename, 'r')['jets'][:]\n",
      "tracks = h5py.File(filename, 'r')['tracks'][:]\n",
      "print(jets.shape)\n",
      "print(tracks.shape)\n",
      "\n",
      "jets1 = h5py.File(filename, 'r')['jets'][0:50000]\n",
      "tracks1 = h5py.File(filename, 'r')['tracks'][0:50000]\n",
      "\n",
      "jets2 = h5py.File(filename, 'r')['jets'][50000:100000]\n",
      "tracks2= h5py.File(filename, 'r')['tracks'][50000:100000]\n",
      "\n",
      "print()\n",
      "print(jets1.shape)\n",
      "print(jets1.size)\n",
      "print(type(jets1))\n",
      "\n",
      "print()\n",
      "print(tracks1.shape)\n",
      "print(tracks1.size)\n",
      "print(type(tracks1))\n",
      "\n",
      "\n",
      "print()\n",
      "jets_full = np.append(jets1, jets2, axis = 0)\n",
      "print(jets_full.shape)\n",
      "print(jets_full.size)\n",
      "print(type(jets_full))\n",
      "# Next plan:\n",
      "# JSON, into DL1 Keras stuff (there's lots of commands I do not know. Must check keras/tensorflow documentation.)\n",
      "%history\n"
     ]
    }
   ],
   "source": [
    "# Next plan:\n",
    "# JSON, into DL1 Keras stuff (there's lots of commands I do not know. Must check keras/tensorflow documentation.)\n",
    "%history"
   ]
  },
  {
   "cell_type": "code",
   "execution_count": 23,
   "metadata": {},
   "outputs": [
    {
     "name": "stdout",
     "output_type": "stream",
     "text": [
      "(284483,)\n",
      "(284483, 40)\n",
      "\n",
      "(50000,)\n",
      "50000\n",
      "<class 'numpy.ndarray'>\n",
      "\n",
      "(50000, 40)\n",
      "2000000\n",
      "<class 'numpy.ndarray'>\n",
      "\n",
      "(100000,)\n",
      "100000\n",
      "<class 'numpy.ndarray'>\n",
      "\n",
      "(100000, 40)\n",
      "4000000\n",
      "<class 'numpy.ndarray'>\n",
      "(150000, 40)\n",
      "6000000\n",
      "<class 'numpy.ndarray'>\n"
     ]
    }
   ],
   "source": [
    "filename = 'user.jodapalm.28858736._000001.output.h5'\n",
    "\n",
    "jets = h5py.File(filename, 'r')['jets'][:]\n",
    "tracks = h5py.File(filename, 'r')['tracks'][:]\n",
    "print(jets.shape)\n",
    "print(tracks.shape)\n",
    "\n",
    "jets1 = h5py.File(filename, 'r')['jets'][0:50000]\n",
    "tracks1 = h5py.File(filename, 'r')['tracks'][0:50000]\n",
    "\n",
    "jets2 = h5py.File(filename, 'r')['jets'][50000:100000]\n",
    "tracks2= h5py.File(filename, 'r')['tracks'][50000:100000]\n",
    "\n",
    "jets3 = h5py.File(filename, 'r')['jets'][150000:200000]\n",
    "tracks3= h5py.File(filename, 'r')['tracks'][150000:200000]\n",
    "\n",
    "print()\n",
    "print(jets1.shape)\n",
    "print(jets1.size)\n",
    "print(type(jets1))\n",
    "\n",
    "print()\n",
    "print(tracks1.shape)\n",
    "print(tracks1.size)\n",
    "print(type(tracks1))\n",
    "\n",
    "\n",
    "print()\n",
    "jets_full = np.append(jets1, jets2, axis = 0)\n",
    "print(jets_full.shape)\n",
    "print(jets_full.size)\n",
    "print(type(jets_full))\n",
    "\n",
    "print()\n",
    "tracks_full = np.append(tracks1, tracks2, axis = 0)\n",
    "print(tracks_full.shape)\n",
    "print(tracks_full.size)\n",
    "print(type(tracks_full))\n",
    "\n",
    "tracks_full = np.append(tracks_full, tracks3, axis = 0)\n",
    "print(tracks_full.shape)\n",
    "print(tracks_full.size)\n",
    "print(type(tracks_full))"
   ]
  },
  {
   "cell_type": "markdown",
   "metadata": {},
   "source": [
    "## Starting with JSON"
   ]
  },
  {
   "cell_type": "code",
   "execution_count": 12,
   "metadata": {},
   "outputs": [
    {
     "name": "stdout",
     "output_type": "stream",
     "text": [
      "dict_keys(['name', 'age', 'city'])\n",
      "dict_values(['John', 30, 'New York'])\n"
     ]
    }
   ],
   "source": [
    "import json\n",
    "\n",
    "# some JSON:\n",
    "x =  '{ \"name\":\"John\", \"age\":30, \"city\":\"New York\"}'\n",
    "\n",
    "# parse x:\n",
    "y = json.loads(x)\n",
    "\n",
    "# the result is a Python dictionary:\n",
    "print(y.keys())\n",
    "print(y.values())"
   ]
  },
  {
   "cell_type": "code",
   "execution_count": 25,
   "metadata": {},
   "outputs": [
    {
     "name": "stdout",
     "output_type": "stream",
     "text": [
      "{\"name\": \"John\", \"age\": 30, \"city\": \"New York\"} , <class 'str'>\n",
      "<class 'str'>\n"
     ]
    }
   ],
   "source": [
    "# a Python object (dict):\n",
    "x = {\n",
    "  \"name\": \"John\",\n",
    "  \"age\": 30,\n",
    "  \"city\": \"New York\"\n",
    "}\n",
    "\n",
    "# convert into JSON:\n",
    "y = json.dumps(x)\n",
    "\n",
    "# the result is a JSON string:\n",
    "print(y, ',' ,type(y)) "
   ]
  },
  {
   "cell_type": "code",
   "execution_count": 30,
   "metadata": {},
   "outputs": [
    {
     "name": "stdout",
     "output_type": "stream",
     "text": [
      "{\"name\": \"John\", \"age\": 30} , <class 'str'>\n",
      "[\"apple\", \"bananas\"] , <class 'str'>\n",
      "[\"apple\", \"bananas\"] , <class 'str'>\n",
      "\"hello\" , <class 'str'>\n",
      "42 , <class 'str'>\n",
      "31.76 , <class 'str'>\n",
      "true , <class 'str'>\n",
      "false , <class 'str'>\n",
      "null , <class 'str'>\n"
     ]
    }
   ],
   "source": [
    "print(json.dumps({\"name\": \"John\", \"age\": 30}), ',' ,type(json.dumps({\"name\": \"John\", \"age\": 30})))\n",
    "print(json.dumps([\"apple\", \"bananas\"]), ',' ,type(json.dumps([\"apple\", \"bananas\"])))\n",
    "print(json.dumps((\"apple\", \"bananas\")), ',' ,type(json.dumps((\"apple\", \"bananas\"))))\n",
    "print(json.dumps(\"hello\"), ',' ,type(json.dumps(\"hello\")))\n",
    "print(json.dumps(42), ',' ,type(json.dumps(42)))\n",
    "print(json.dumps(31.76), ',' ,type(json.dumps(31.76)))\n",
    "print(json.dumps(True), ',' ,type(json.dumps(True)))\n",
    "print(json.dumps(False), ',' ,type(json.dumps(False)))\n",
    "print(json.dumps(None), ',' ,type(json.dumps(None)))"
   ]
  },
  {
   "cell_type": "code",
   "execution_count": 31,
   "metadata": {},
   "outputs": [
    {
     "name": "stdout",
     "output_type": "stream",
     "text": [
      "{\"name\": \"John\", \"age\": 30, \"married\": true, \"divorced\": false, \"children\": [\"Ann\", \"Billy\"], \"pets\": null, \"cars\": [{\"model\": \"BMW 230\", \"mpg\": 27.5}, {\"model\": \"Ford Edge\", \"mpg\": 24.1}]}\n"
     ]
    }
   ],
   "source": [
    "x = {\n",
    "  \"name\": \"John\",\n",
    "  \"age\": 30,\n",
    "  \"married\": True,\n",
    "  \"divorced\": False,\n",
    "  \"children\": (\"Ann\",\"Billy\"),\n",
    "  \"pets\": None,\n",
    "  \"cars\": [\n",
    "    {\"model\": \"BMW 230\", \"mpg\": 27.5},\n",
    "    {\"model\": \"Ford Edge\", \"mpg\": 24.1}\n",
    "  ]\n",
    "}\n",
    "\n",
    "# convert into JSON:\n",
    "y = json.dumps(x)\n",
    "\n",
    "# the result is a JSON string:\n",
    "print(y)"
   ]
  },
  {
   "cell_type": "code",
   "execution_count": 75,
   "metadata": {},
   "outputs": [
    {
     "name": "stdout",
     "output_type": "stream",
     "text": [
      "Error: No such file or directory!\n",
      "file closed...\n"
     ]
    }
   ],
   "source": [
    "# Testing reading vscode settings.json file:\n",
    "try:\n",
    "    setting_json = open('./.vscode/sttings.json') # Typo in setting.json to induce error...\n",
    "    data = json.load(setting_json)\n",
    "    print(data)\n",
    "except:\n",
    "    print('Error: No such file or directory!')\n",
    "finally:\n",
    "    setting_json.close()\n",
    "    print('file closed...')"
   ]
  },
  {
   "cell_type": "code",
   "execution_count": 73,
   "metadata": {},
   "outputs": [
    {
     "name": "stdout",
     "output_type": "stream",
     "text": [
      "The entry is a\n",
      "Oops! <class 'ValueError'> occurred.\n",
      "Next entry.\n",
      "\n",
      "The entry is 0\n",
      "Oops! <class 'ZeroDivisionError'> occurred.\n",
      "Next entry.\n",
      "\n",
      "The entry is 2\n",
      "The reciprocal of 2 is 0.5\n"
     ]
    }
   ],
   "source": [
    "# import module sys to get the type of exception\n",
    "import sys\n",
    "\n",
    "randomList = ['a', 0, 2]\n",
    "\n",
    "for entry in randomList:\n",
    "    try:\n",
    "        print(\"The entry is\", entry)\n",
    "        r = 1/int(entry)\n",
    "        break\n",
    "    except:\n",
    "        print(\"Oops!\", sys.exc_info()[0], \"occurred.\")\n",
    "        print(\"Next entry.\")\n",
    "        print()\n",
    "print(\"The reciprocal of\", entry, \"is\", r)"
   ]
  },
  {
   "cell_type": "code",
   "execution_count": 72,
   "metadata": {},
   "outputs": [
    {
     "name": "stdout",
     "output_type": "stream",
     "text": [
      "First number from [1, 5, 9, 13] divisible by 3 : 9\n"
     ]
    }
   ],
   "source": [
    "import numpy as np\n",
    "\n",
    "k = 3\n",
    "for a in np.arange(1, 15, 4):\n",
    "    if(a%k == 0):\n",
    "        break\n",
    "\n",
    "ar = np.arange(1,15,4)\n",
    "print('First number from', ar.tolist(), 'divisible by', k, ':', a)"
   ]
  },
  {
   "cell_type": "code",
   "execution_count": 89,
   "metadata": {},
   "outputs": [
    {
     "name": "stdout",
     "output_type": "stream",
     "text": [
      "error: <class 'FileNotFoundError'> occured.\n",
      "closing file...\n"
     ]
    }
   ],
   "source": [
    "# If we want to print the error/exception type...\n",
    "try:\n",
    "    f = open('./.vscode/se<ttings.json')\n",
    "except:\n",
    "    print('error:', sys.exc_info()[0], 'occured.')\n",
    "finally:\n",
    "    f.close()\n",
    "    print('closing file...')"
   ]
  },
  {
   "cell_type": "code",
   "execution_count": 2,
   "metadata": {},
   "outputs": [
    {
     "data": {
      "text/plain": [
       "array([2, 2])"
      ]
     },
     "execution_count": 2,
     "metadata": {},
     "output_type": "execute_result"
    }
   ],
   "source": [
    "import numpy as np\n",
    "a = np.arange(6).reshape(2,3) + 10\n",
    "np.argmax(a, axis=-1)"
   ]
  },
  {
   "cell_type": "code",
   "execution_count": 12,
   "metadata": {},
   "outputs": [
    {
     "name": "stdout",
     "output_type": "stream",
     "text": [
      "c-jet: np.argmax(y_test,axis=-1) = 1\n",
      "Iteration ((0, 'l')): ix = False\n",
      "Iteration ((1, 'c')): ix = True\n",
      "Iteration ((2, 'b')): ix = False\n"
     ]
    }
   ],
   "source": [
    "y_test = [0, 1, 0]\n",
    "print(f'c-jet: np.argmax(y_test,axis=-1) = {np.argmax(y_test,axis=-1)}')\n",
    "for output, flavor in zip([0,1,2], ['l','c','b']):\n",
    "    ix = (np.argmax(y_test,axis=-1) == output)\n",
    "    print(f'Iteration ({output, flavor}): ix = {ix}')"
   ]
  },
  {
   "cell_type": "code",
   "execution_count": 20,
   "metadata": {},
   "outputs": [
    {
     "data": {
      "text/plain": [
       "0"
      ]
     },
     "execution_count": 20,
     "metadata": {},
     "output_type": "execute_result"
    }
   ],
   "source": [
    "import matplotlib.pyplot as plt\n",
    "y_test[False]"
   ]
  },
  {
   "cell_type": "code",
   "execution_count": 17,
   "metadata": {},
   "outputs": [
    {
     "data": {
      "text/plain": [
       "array([ 5,  8, 10])"
      ]
     },
     "execution_count": 17,
     "metadata": {},
     "output_type": "execute_result"
    }
   ],
   "source": [
    "np.add.accumulate([2, 3, 5][::-1])"
   ]
  },
  {
   "cell_type": "code",
   "execution_count": 36,
   "metadata": {},
   "outputs": [
    {
     "name": "stdout",
     "output_type": "stream",
     "text": [
      "[0.1 0.4 0.8 1.3 1.9 2.4 2.6 2.7]\n",
      "[0.1 0.3 0.8 1.4 1.9 2.3 2.6 2.7]\n",
      "2.7\n"
     ]
    },
    {
     "data": {
      "image/png": "[encoded data removed]",
      "text/plain": [
       "<Figure size 432x288 with 1 Axes>"
      ]
     },
     "metadata": {
      "needs_background": "light"
     },
     "output_type": "display_data"
    }
   ],
   "source": [
    "w = [0.1 ,0.2, 0.5, 0.6, 0.5, 0.4, 0.3, 0.1]\n",
    "plt.plot(w)\n",
    "print(np.add.accumulate(w[::-1]))\n",
    "print(np.add.accumulate(w))\n",
    "print(np.sum(w))"
   ]
  },
  {
   "cell_type": "code",
   "execution_count": 38,
   "metadata": {},
   "outputs": [
    {
     "data": {
      "image/png": "[encoded data removed]",
      "text/plain": [
       "<Figure size 432x288 with 1 Axes>"
      ]
     },
     "metadata": {
      "needs_background": "light"
     },
     "output_type": "display_data"
    },
    {
     "name": "stdout",
     "output_type": "stream",
     "text": [
      "[1.000e-04 2.000e-04 2.000e-04 2.000e-04 4.000e-04 1.100e-03 1.500e-03\n",
      " 2.300e-03 3.300e-03 6.100e-03 9.400e-03 1.300e-02 2.040e-02 2.980e-02\n",
      " 4.230e-02 5.840e-02 8.100e-02 1.068e-01 1.382e-01 1.748e-01 2.199e-01\n",
      " 2.716e-01 3.266e-01 3.818e-01 4.406e-01 4.994e-01 5.636e-01 6.235e-01\n",
      " 6.784e-01 7.345e-01 7.840e-01 8.288e-01 8.685e-01 9.014e-01 9.286e-01\n",
      " 9.469e-01 9.609e-01 9.720e-01 9.820e-01 9.878e-01 9.918e-01 9.945e-01\n",
      " 9.965e-01 9.979e-01 9.985e-01 9.990e-01 9.995e-01 9.996e-01 9.999e-01\n",
      " 1.000e+00]\n",
      "[1.000e-04 4.000e-04 5.000e-04 1.000e-03 1.500e-03 2.100e-03 3.500e-03\n",
      " 5.500e-03 8.200e-03 1.220e-02 1.800e-02 2.800e-02 3.910e-02 5.310e-02\n",
      " 7.140e-02 9.860e-02 1.315e-01 1.712e-01 2.160e-01 2.655e-01 3.216e-01\n",
      " 3.765e-01 4.364e-01 5.006e-01 5.594e-01 6.182e-01 6.734e-01 7.284e-01\n",
      " 7.801e-01 8.252e-01 8.618e-01 8.932e-01 9.190e-01 9.416e-01 9.577e-01\n",
      " 9.702e-01 9.796e-01 9.870e-01 9.906e-01 9.939e-01 9.967e-01 9.977e-01\n",
      " 9.985e-01 9.989e-01 9.996e-01 9.998e-01 9.998e-01 9.998e-01 9.999e-01\n",
      " 1.000e+00]\n",
      "0.42740598590415035\n"
     ]
    },
    {
     "data": {
      "text/plain": [
       "[<matplotlib.lines.Line2D at 0x7f7a4338dfa0>]"
      ]
     },
     "execution_count": 38,
     "metadata": {},
     "output_type": "execute_result"
    },
    {
     "data": {
      "image/png": "[encoded data removed]",
      "text/plain": [
       "<Figure size 432x288 with 1 Axes>"
      ]
     },
     "metadata": {
      "needs_background": "light"
     },
     "output_type": "display_data"
    }
   ],
   "source": [
    "import numpy as np\n",
    "import matplotlib.pyplot as plt\n",
    "\n",
    "# Fixing random state for reproducibility\n",
    "np.random.seed(19680801)\n",
    "\n",
    "mu, sigma = 100, 15\n",
    "x = mu + sigma * np.random.randn(10000)\n",
    "\n",
    "# the histogram of the data\n",
    "n, bins, patches = plt.hist(x, 50, density=True, facecolor='g', alpha=0.75)\n",
    "\n",
    "\n",
    "plt.xlabel('Smarts')\n",
    "plt.ylabel('Probability')\n",
    "plt.title('Histogram of IQ')\n",
    "plt.text(60, .025, r'$\\mu=100,\\ \\sigma=15$')\n",
    "plt.xlim(40, 160)\n",
    "plt.ylim(0, 0.03)\n",
    "plt.grid(True)\n",
    "plt.show()\n",
    "print(np.add.accumulate(n[::-1])/np.sum(n))\n",
    "print(np.add.accumulate(n)/np.sum(n))\n",
    "print(np.sum(n))\n",
    "plt.plot(np.add.accumulate(n[::-1])/np.sum(n))"
   ]
  },
  {
   "cell_type": "code",
   "execution_count": 71,
   "metadata": {},
   "outputs": [
    {
     "data": {
      "image/png": "[encoded data removed]",
      "text/plain": [
       "<Figure size 432x288 with 1 Axes>"
      ]
     },
     "metadata": {
      "needs_background": "light"
     },
     "output_type": "display_data"
    },
    {
     "name": "stdout",
     "output_type": "stream",
     "text": [
      "[ 1.  3.  6. 10. 13. 16. 17.]\n"
     ]
    }
   ],
   "source": [
    "w = [0.1 ,0.2, 0.5, 0.6, 0.5, 0.4, 0.3, 0.1, 0.25, 0.25, 0.35, 0.35, 0.35, 0.45, 0.45, 0.05, 0.15]\n",
    "n, bins, _ = plt.hist(w, bins = 7, range = (0, 0.7), density=False, facecolor='g', alpha=0.75)\n",
    "plt.xlabel('Discriminant')\n",
    "plt.ylabel('\\\"Normalized\\\" counts')\n",
    "plt.title('Histogram')\n",
    "plt.xlim(0, 0.7)\n",
    "plt.ylim(0, 6)\n",
    "plt.grid(True)\n",
    "plt.show()\n",
    "eff = np.add.accumulate(n[::-1])\n",
    "print(eff)"
   ]
  },
  {
   "cell_type": "code",
   "execution_count": 82,
   "metadata": {},
   "outputs": [
    {
     "name": "stdout",
     "output_type": "stream",
     "text": [
      "[ True False False  True]\n",
      "[4 4]\n"
     ]
    }
   ],
   "source": [
    "y_test = [[0, 0, 1],\n",
    "          [1, 0, 0],\n",
    "          [0, 1, 0],\n",
    "          [0, 0, 1]]\n",
    "\n",
    "ix = (np.argmax(y_test,axis=-1) == 2)\n",
    "print(ix)\n",
    "disc = np.array([4, 2, 3, 4])\n",
    "print(disc[ix])"
   ]
  },
  {
   "cell_type": "code",
   "execution_count": null,
   "metadata": {},
   "outputs": [],
   "source": []
  }
 ],
 "metadata": {
  "interpreter": {
   "hash": "cbd382e0d726dea6e1cac3fc7270eac95169b42d7d4c3a2b1494b335ff623a0e"
  },
  "kernelspec": {
   "display_name": "Python 3.8.10 ('PIC_venv': venv)",
   "language": "python",
   "name": "python3"
  },
  "language_info": {
   "codemirror_mode": {
    "name": "ipython",
    "version": 3
   },
   "file_extension": ".py",
   "mimetype": "text/x-python",
   "name": "python",
   "nbconvert_exporter": "python",
   "pygments_lexer": "ipython3",
   "version": "3.8.10"
  },
  "orig_nbformat": 4
 },
 "nbformat": 4,
 "nbformat_minor": 2
}
