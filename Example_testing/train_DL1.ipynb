{
 "cells": [
  {
   "cell_type": "markdown",
   "metadata": {},
   "source": [
    "# b-tagging Machine Learning Tutorial"
   ]
  },
  {
   "cell_type": "markdown",
   "metadata": {},
   "source": [
    "training script for DL1"
   ]
  },
  {
   "cell_type": "code",
   "execution_count": 1,
   "metadata": {},
   "outputs": [],
   "source": [
    "import h5py\n",
    "import numpy as np\n",
    "import pandas as pd\n",
    "import json\n",
    "import os\n",
    "import matplotlib.pyplot as plt\n",
    "from matplotlib.ticker import MaxNLocator"
   ]
  },
  {
   "cell_type": "code",
   "execution_count": 2,
   "metadata": {},
   "outputs": [
    {
     "name": "stderr",
     "output_type": "stream",
     "text": [
      "2022-06-12 16:04:24.086410: W tensorflow/stream_executor/platform/default/dso_loader.cc:64] Could not load dynamic library 'libcudart.so.11.0'; dlerror: libcudart.so.11.0: cannot open shared object file: No such file or directory; LD_LIBRARY_PATH: /home/afonso/root/lib\n",
      "2022-06-12 16:04:24.086455: I tensorflow/stream_executor/cuda/cudart_stub.cc:29] Ignore above cudart dlerror if you do not have a GPU set up on your machine.\n"
     ]
    }
   ],
   "source": [
    "from keras.layers import BatchNormalization\n",
    "from keras.layers import Dense, Activation, Input, add\n",
    "from keras.models import Model\n",
    "# from keras.optimizers import Adam\n",
    "from tensorflow.keras.optimizers import Adam\n",
    "from keras.callbacks import ReduceLROnPlateau, Callback"
   ]
  },
  {
   "cell_type": "code",
   "execution_count": 3,
   "metadata": {},
   "outputs": [],
   "source": [
    "%load_ext autoreload\n",
    "%autoreload 2"
   ]
  },
  {
   "cell_type": "code",
   "execution_count": 4,
   "metadata": {},
   "outputs": [],
   "source": [
    "from plottingFunctions import sigBkgEff"
   ]
  },
  {
   "cell_type": "code",
   "execution_count": 5,
   "metadata": {},
   "outputs": [],
   "source": [
    "file_path = \"\""
   ]
  },
  {
   "cell_type": "code",
   "execution_count": 6,
   "metadata": {},
   "outputs": [],
   "source": [
    "trainfile_name = file_path + \"MC16d_hybrid-training_sample-NN.h5\" # Will need to download the files manually if I want to run this here...\n",
    "h5f_train = h5py.File(trainfile_name, 'r')"
   ]
  },
  {
   "cell_type": "code",
   "execution_count": 7,
   "metadata": {},
   "outputs": [],
   "source": [
    "# dset = h5f_train['X_train'][:]\n",
    "# dset2 = h5f_train['X_train'][...]\n",
    "# print(dset)\n",
    "# print()\n",
    "# print(dset2)"
   ]
  },
  {
   "cell_type": "code",
   "execution_count": 8,
   "metadata": {},
   "outputs": [],
   "source": [
    "# dset.shape"
   ]
  },
  {
   "cell_type": "code",
   "execution_count": 9,
   "metadata": {},
   "outputs": [],
   "source": [
    "X_train = h5f_train['X_train'][:]\n",
    "Y_train = h5f_train['Y_train'][:]"
   ]
  },
  {
   "cell_type": "code",
   "execution_count": 10,
   "metadata": {},
   "outputs": [],
   "source": [
    "testfile_name = file_path+\"MC16d_ttbar-test-validation_sample-NN.h5\"\n",
    "h5f_test = h5py.File(testfile_name, 'r')"
   ]
  },
  {
   "cell_type": "code",
   "execution_count": 11,
   "metadata": {},
   "outputs": [],
   "source": [
    "X_test = h5f_test['X_test'][:]\n",
    "Y_test = h5f_test['Y_test'][:]\n",
    "# Test train split is something to keep in mind!"
   ]
  },
  {
   "cell_type": "markdown",
   "metadata": {},
   "source": [
    "In the following the DL1 network is defined"
   ]
  },
  {
   "cell_type": "code",
   "execution_count": 12,
   "metadata": {},
   "outputs": [
    {
     "name": "stderr",
     "output_type": "stream",
     "text": [
      "2022-06-12 16:07:18.371129: E tensorflow/stream_executor/cuda/cuda_driver.cc:271] failed call to cuInit: CUDA_ERROR_NO_DEVICE: no CUDA-capable device is detected\n",
      "2022-06-12 16:07:18.371208: I tensorflow/stream_executor/cuda/cuda_diagnostics.cc:156] kernel driver does not appear to be running on this host (afonso-OMEN-by-HP-Laptop-15-ce0xx): /proc/driver/nvidia/version does not exist\n",
      "2022-06-12 16:07:18.391149: I tensorflow/core/platform/cpu_feature_guard.cc:151] This TensorFlow binary is optimized with oneAPI Deep Neural Network Library (oneDNN) to use the following CPU instructions in performance-critical operations:  AVX2 FMA\n",
      "To enable them in other operations, rebuild TensorFlow with the appropriate compiler flags.\n"
     ]
    },
    {
     "name": "stdout",
     "output_type": "stream",
     "text": [
      "Model: \"model\"\n",
      "_________________________________________________________________\n",
      " Layer (type)                Output Shape              Param #   \n",
      "=================================================================\n",
      " input_1 (InputLayer)        [(None, 44)]              0         \n",
      "                                                                 \n",
      " dense (Dense)               (None, 72)                3240      \n",
      "                                                                 \n",
      " batch_normalization (BatchN  (None, 72)               288       \n",
      " ormalization)                                                   \n",
      "                                                                 \n",
      " activation (Activation)     (None, 72)                0         \n",
      "                                                                 \n",
      " dense_1 (Dense)             (None, 57)                4161      \n",
      "                                                                 \n",
      " batch_normalization_1 (Batc  (None, 57)               228       \n",
      " hNormalization)                                                 \n",
      "                                                                 \n",
      " activation_1 (Activation)   (None, 57)                0         \n",
      "                                                                 \n",
      " dense_2 (Dense)             (None, 60)                3480      \n",
      "                                                                 \n",
      " batch_normalization_2 (Batc  (None, 60)               240       \n",
      " hNormalization)                                                 \n",
      "                                                                 \n",
      " activation_2 (Activation)   (None, 60)                0         \n",
      "                                                                 \n",
      " dense_3 (Dense)             (None, 48)                2928      \n",
      "                                                                 \n",
      " batch_normalization_3 (Batc  (None, 48)               192       \n",
      " hNormalization)                                                 \n",
      "                                                                 \n",
      " activation_3 (Activation)   (None, 48)                0         \n",
      "                                                                 \n",
      " dense_4 (Dense)             (None, 36)                1764      \n",
      "                                                                 \n",
      " batch_normalization_4 (Batc  (None, 36)               144       \n",
      " hNormalization)                                                 \n",
      "                                                                 \n",
      " activation_4 (Activation)   (None, 36)                0         \n",
      "                                                                 \n",
      " dense_5 (Dense)             (None, 24)                888       \n",
      "                                                                 \n",
      " batch_normalization_5 (Batc  (None, 24)               96        \n",
      " hNormalization)                                                 \n",
      "                                                                 \n",
      " activation_5 (Activation)   (None, 24)                0         \n",
      "                                                                 \n",
      " dense_6 (Dense)             (None, 12)                300       \n",
      "                                                                 \n",
      " batch_normalization_6 (Batc  (None, 12)               48        \n",
      " hNormalization)                                                 \n",
      "                                                                 \n",
      " activation_6 (Activation)   (None, 12)                0         \n",
      "                                                                 \n",
      " dense_7 (Dense)             (None, 6)                 78        \n",
      "                                                                 \n",
      " batch_normalization_7 (Batc  (None, 6)                24        \n",
      " hNormalization)                                                 \n",
      "                                                                 \n",
      " activation_7 (Activation)   (None, 6)                 0         \n",
      "                                                                 \n",
      " dense_8 (Dense)             (None, 3)                 21        \n",
      "                                                                 \n",
      "=================================================================\n",
      "Total params: 18,120\n",
      "Trainable params: 17,490\n",
      "Non-trainable params: 630\n",
      "_________________________________________________________________\n"
     ]
    },
    {
     "name": "stderr",
     "output_type": "stream",
     "text": [
      "/home/afonso/Desktop/PythonStuff/PIC/PIC_venv/lib/python3.8/site-packages/keras/optimizer_v2/adam.py:105: UserWarning: The `lr` argument is deprecated, use `learning_rate` instead.\n",
      "  super(Adam, self).__init__(name, **kwargs)\n"
     ]
    }
   ],
   "source": [
    "# Input layer\n",
    "inputs = Input(shape=(X_train.shape[1],))\n",
    "# number of nodes in the different hidden layers\n",
    "l_units = [72, 57, 60, 48, 36, 24, 12, 6]\n",
    "x = inputs\n",
    "# loop to initialise the hidden layers\n",
    "for unit in l_units:\n",
    "    x = Dense(units=unit, activation=\"linear\", kernel_initializer='glorot_uniform')(x) # Activation \"linear\"?\n",
    "    x = BatchNormalization()(x) # Interpreto isto como propriedade da Dense layer (introduz 'batch normalization' -> transforma o output\n",
    "                                # para dar algo de média zero e desvio padrão 1. \"Batch normalization applies a transformation that maintains \n",
    "                                # the mean output close to 0 and the output standard deviation close to 1\" - Keras documentation.\n",
    "            \n",
    "    x = Activation('relu')(x)   # Interpreto isto como propriedade da Dense layer (altera a activation function de \"linear\" para 'relu')\n",
    "#     x = Dropout(0.1)          # Could uncomment to introduce dropout (to reduce overfitting if needed)\n",
    "# output layer, using softmax which will return a probability for each jet to be either light, c- or b-jet\n",
    "predictions = Dense(units=3, activation='softmax',\n",
    "                    kernel_initializer='glorot_uniform')(x)\n",
    "\n",
    "model = Model(inputs=inputs, outputs=predictions)\n",
    "model.summary()\n",
    "\n",
    "model_optimizer = Adam(lr=0.01)\n",
    "model.compile(  # loss='mse',\n",
    "    loss='categorical_crossentropy', # categorical_crossentropy: It is used for multi-class classification.\n",
    "    optimizer=model_optimizer,\n",
    "    metrics=['accuracy']\n",
    ")"
   ]
  },
  {
   "cell_type": "code",
   "execution_count": 13,
   "metadata": {},
   "outputs": [],
   "source": [
    "def GetRejection(y_pred, y_true):\n",
    "    \"\"\"Calculates the c and light rejection for 77% WP and 0.018 c-fraction.\"\"\"\n",
    "    b_index, c_index, u_index = 2, 1, 0\n",
    "    cfrac = 0.018\n",
    "    target_beff = 0.77\n",
    "    y_true = np.argmax(y_true, axis=1)\n",
    "    b_jets = y_pred[y_true == b_index]\n",
    "    c_jets = y_pred[y_true == c_index]\n",
    "    u_jets = y_pred[y_true == u_index]\n",
    "    bscores = np.log(b_jets[:, b_index] / (cfrac * b_jets[:, c_index] +\n",
    "                                           (1 - cfrac) * b_jets[:, u_index]))\n",
    "    cutvalue = np.percentile(bscores, 100.0 * (1.0 - target_beff))\n",
    "\n",
    "    c_eff = len(c_jets[np.log(c_jets[:, b_index] / (cfrac * c_jets[:, c_index]\n",
    "                                                    + (1 - cfrac) *\n",
    "                                                    c_jets[:, u_index])) >\n",
    "                       cutvalue]) / float(len(c_jets))\n",
    "    u_eff = len(u_jets[np.log(u_jets[:, b_index] / (cfrac *\n",
    "                                                    u_jets[:, c_index] +\n",
    "                                                    (1 - cfrac) *\n",
    "                                                    u_jets[:, u_index])) >\n",
    "                       cutvalue]) / float(len(u_jets))\n",
    "\n",
    "    if c_eff == 0 or u_eff == 0:\n",
    "        return -1, -1\n",
    "    return 1. / c_eff, 1. / u_eff\n",
    "\n",
    "\n",
    "class MyCallback(Callback):\n",
    "    \"\"\"Custom callback function calculating per epoch light and c-rejection and saves the model of each epoch.\"\"\"\n",
    "    def __init__(self, X_valid=0, Y_valid=0,\n",
    "                 model_name='test', store_all=False):\n",
    "        self.X_valid = X_valid\n",
    "        self.Y_valid = Y_valid\n",
    "        self.result = []\n",
    "        self.model_name = model_name\n",
    "        os.system(\"mkdir -p %s\" % self.model_name)\n",
    "        self.dict_list = []\n",
    "        self.store_all = store_all\n",
    "\n",
    "    def on_epoch_end(self, epoch, logs=None):\n",
    "        if self.store_all:\n",
    "            self.model.save('%s/model_epoch%i.h5' % (self.model_name, epoch))\n",
    "        y_pred = self.model.predict(self.X_valid, batch_size=5000)\n",
    "        c_rej, u_rej = GetRejection(y_pred, self.Y_valid)\n",
    "        dict_epoch = {\n",
    "            \"epoch\": epoch,\n",
    "            \"loss\": float(logs['loss']),\n",
    "            \"acc\": float(logs['accuracy']),\n",
    "            \"val_loss\": float(logs['val_loss']),\n",
    "            \"val_acc\": float(logs['val_accuracy']),\n",
    "            \"c_rej\": c_rej,\n",
    "            \"u_rej\": u_rej\n",
    "        }\n",
    "\n",
    "        self.dict_list.append(dict_epoch)\n",
    "        with open('%s/DictFile.json' % self.model_name, 'w') as outfile:\n",
    "            json.dump(self.dict_list, outfile, indent=4)"
   ]
  },
  {
   "cell_type": "code",
   "execution_count": 14,
   "metadata": {},
   "outputs": [
    {
     "name": "stdout",
     "output_type": "stream",
     "text": [
      "Epoch 1/10\n",
      "691/691 [==============================] - 30s 34ms/step - loss: 0.7386 - accuracy: 0.6480 - val_loss: 0.6377 - val_accuracy: 0.7585 - lr: 0.0100\n",
      "Epoch 2/10\n",
      "691/691 [==============================] - 24s 34ms/step - loss: 0.7253 - accuracy: 0.6541 - val_loss: 0.6255 - val_accuracy: 0.7622 - lr: 0.0100\n",
      "Epoch 3/10\n",
      "691/691 [==============================] - 19s 28ms/step - loss: 0.7226 - accuracy: 0.6553 - val_loss: 0.6151 - val_accuracy: 0.7543 - lr: 0.0100\n",
      "Epoch 4/10\n",
      "691/691 [==============================] - 24s 35ms/step - loss: 0.7210 - accuracy: 0.6561 - val_loss: 0.5814 - val_accuracy: 0.7737 - lr: 0.0100\n",
      "Epoch 5/10\n",
      "691/691 [==============================] - 25s 37ms/step - loss: 0.7199 - accuracy: 0.6569 - val_loss: 0.6073 - val_accuracy: 0.7619 - lr: 0.0100\n",
      "Epoch 6/10\n",
      "691/691 [==============================] - 27s 39ms/step - loss: 0.7191 - accuracy: 0.6572 - val_loss: 0.5876 - val_accuracy: 0.7759 - lr: 0.0100\n",
      "Epoch 7/10\n",
      "691/691 [==============================] - 24s 35ms/step - loss: 0.7185 - accuracy: 0.6576 - val_loss: 0.5864 - val_accuracy: 0.7718 - lr: 0.0100\n",
      "Epoch 8/10\n",
      "691/691 [==============================] - 25s 36ms/step - loss: 0.7177 - accuracy: 0.6580 - val_loss: 0.6122 - val_accuracy: 0.7584 - lr: 0.0100\n",
      "Epoch 9/10\n",
      "691/691 [==============================] - 18s 26ms/step - loss: 0.7172 - accuracy: 0.6584 - val_loss: 0.5946 - val_accuracy: 0.7792 - lr: 0.0100\n",
      "Epoch 10/10\n",
      "691/691 [==============================] - 15s 22ms/step - loss: 0.7167 - accuracy: 0.6586 - val_loss: 0.6017 - val_accuracy: 0.7707 - lr: 0.0100\n"
     ]
    },
    {
     "data": {
      "text/plain": [
       "<keras.callbacks.History at 0x7f9cf4708b80>"
      ]
     },
     "execution_count": 14,
     "metadata": {},
     "output_type": "execute_result"
    }
   ],
   "source": [
    "reduce_lr = ReduceLROnPlateau(monitor='loss', factor=0.2, # Reduce learning rate when a metric has stopped improving.\n",
    "                              patience=5, min_lr=0.00001)\n",
    "my_callback = MyCallback(X_valid=X_test,\n",
    "                         Y_valid=Y_test,\n",
    "                         model_name=\"DL1_example\"\n",
    "#                         ,store_all=True #flag to store model of each epoch\n",
    "                        )\n",
    "\n",
    "callbacks = [reduce_lr, my_callback]\n",
    "\n",
    "model.fit(X_train, Y_train,\n",
    "          validation_data=[X_test[:], Y_test[:]],\n",
    "          epochs=10, # typically ~130 are necessary to converge\n",
    "          batch_size=3000,\n",
    "          callbacks=callbacks,\n",
    "          )"
   ]
  },
  {
   "cell_type": "code",
   "execution_count": 15,
   "metadata": {},
   "outputs": [
    {
     "data": {
      "text/html": [
       "<div>\n",
       "<style scoped>\n",
       "    .dataframe tbody tr th:only-of-type {\n",
       "        vertical-align: middle;\n",
       "    }\n",
       "\n",
       "    .dataframe tbody tr th {\n",
       "        vertical-align: top;\n",
       "    }\n",
       "\n",
       "    .dataframe thead th {\n",
       "        text-align: right;\n",
       "    }\n",
       "</style>\n",
       "<table border=\"1\" class=\"dataframe\">\n",
       "  <thead>\n",
       "    <tr style=\"text-align: right;\">\n",
       "      <th></th>\n",
       "      <th>epoch</th>\n",
       "      <th>loss</th>\n",
       "      <th>acc</th>\n",
       "      <th>val_loss</th>\n",
       "      <th>val_acc</th>\n",
       "      <th>c_rej</th>\n",
       "      <th>u_rej</th>\n",
       "    </tr>\n",
       "  </thead>\n",
       "  <tbody>\n",
       "    <tr>\n",
       "      <th>0</th>\n",
       "      <td>0</td>\n",
       "      <td>0.738583</td>\n",
       "      <td>0.648006</td>\n",
       "      <td>0.637740</td>\n",
       "      <td>0.758501</td>\n",
       "      <td>5.687323</td>\n",
       "      <td>122.612050</td>\n",
       "    </tr>\n",
       "    <tr>\n",
       "      <th>1</th>\n",
       "      <td>1</td>\n",
       "      <td>0.725265</td>\n",
       "      <td>0.654092</td>\n",
       "      <td>0.625484</td>\n",
       "      <td>0.762206</td>\n",
       "      <td>6.064849</td>\n",
       "      <td>103.651424</td>\n",
       "    </tr>\n",
       "    <tr>\n",
       "      <th>2</th>\n",
       "      <td>2</td>\n",
       "      <td>0.722639</td>\n",
       "      <td>0.655267</td>\n",
       "      <td>0.615097</td>\n",
       "      <td>0.754290</td>\n",
       "      <td>5.313218</td>\n",
       "      <td>144.100043</td>\n",
       "    </tr>\n",
       "    <tr>\n",
       "      <th>3</th>\n",
       "      <td>3</td>\n",
       "      <td>0.720995</td>\n",
       "      <td>0.656091</td>\n",
       "      <td>0.581392</td>\n",
       "      <td>0.773711</td>\n",
       "      <td>5.233576</td>\n",
       "      <td>151.835078</td>\n",
       "    </tr>\n",
       "    <tr>\n",
       "      <th>4</th>\n",
       "      <td>4</td>\n",
       "      <td>0.719890</td>\n",
       "      <td>0.656909</td>\n",
       "      <td>0.607326</td>\n",
       "      <td>0.761920</td>\n",
       "      <td>5.467084</td>\n",
       "      <td>146.469494</td>\n",
       "    </tr>\n",
       "    <tr>\n",
       "      <th>5</th>\n",
       "      <td>5</td>\n",
       "      <td>0.719111</td>\n",
       "      <td>0.657162</td>\n",
       "      <td>0.587635</td>\n",
       "      <td>0.775892</td>\n",
       "      <td>5.304885</td>\n",
       "      <td>156.587972</td>\n",
       "    </tr>\n",
       "    <tr>\n",
       "      <th>6</th>\n",
       "      <td>6</td>\n",
       "      <td>0.718482</td>\n",
       "      <td>0.657601</td>\n",
       "      <td>0.586383</td>\n",
       "      <td>0.771789</td>\n",
       "      <td>5.082997</td>\n",
       "      <td>156.805590</td>\n",
       "    </tr>\n",
       "    <tr>\n",
       "      <th>7</th>\n",
       "      <td>7</td>\n",
       "      <td>0.717689</td>\n",
       "      <td>0.657980</td>\n",
       "      <td>0.612233</td>\n",
       "      <td>0.758402</td>\n",
       "      <td>5.388159</td>\n",
       "      <td>150.551964</td>\n",
       "    </tr>\n",
       "    <tr>\n",
       "      <th>8</th>\n",
       "      <td>8</td>\n",
       "      <td>0.717219</td>\n",
       "      <td>0.658376</td>\n",
       "      <td>0.594583</td>\n",
       "      <td>0.779183</td>\n",
       "      <td>5.583273</td>\n",
       "      <td>144.530743</td>\n",
       "    </tr>\n",
       "    <tr>\n",
       "      <th>9</th>\n",
       "      <td>9</td>\n",
       "      <td>0.716677</td>\n",
       "      <td>0.658568</td>\n",
       "      <td>0.601727</td>\n",
       "      <td>0.770715</td>\n",
       "      <td>5.617660</td>\n",
       "      <td>149.973859</td>\n",
       "    </tr>\n",
       "  </tbody>\n",
       "</table>\n",
       "</div>"
      ],
      "text/plain": [
       "   epoch      loss       acc  val_loss   val_acc     c_rej       u_rej\n",
       "0      0  0.738583  0.648006  0.637740  0.758501  5.687323  122.612050\n",
       "1      1  0.725265  0.654092  0.625484  0.762206  6.064849  103.651424\n",
       "2      2  0.722639  0.655267  0.615097  0.754290  5.313218  144.100043\n",
       "3      3  0.720995  0.656091  0.581392  0.773711  5.233576  151.835078\n",
       "4      4  0.719890  0.656909  0.607326  0.761920  5.467084  146.469494\n",
       "5      5  0.719111  0.657162  0.587635  0.775892  5.304885  156.587972\n",
       "6      6  0.718482  0.657601  0.586383  0.771789  5.082997  156.805590\n",
       "7      7  0.717689  0.657980  0.612233  0.758402  5.388159  150.551964\n",
       "8      8  0.717219  0.658376  0.594583  0.779183  5.583273  144.530743\n",
       "9      9  0.716677  0.658568  0.601727  0.770715  5.617660  149.973859"
      ]
     },
     "execution_count": 15,
     "metadata": {},
     "output_type": "execute_result"
    }
   ],
   "source": [
    "df_results = pd.read_json(\"DL1_example/DictFile.json\")\n",
    "df_results"
   ]
  },
  {
   "cell_type": "code",
   "execution_count": 16,
   "metadata": {},
   "outputs": [
    {
     "data": {
      "image/png": "[encoded data removed]",
      "text/plain": [
       "<Figure size 432x288 with 1 Axes>"
      ]
     },
     "metadata": {
      "needs_background": "light"
     },
     "output_type": "display_data"
    }
   ],
   "source": [
    "plt.plot(df_results['epoch'],df_results['loss'], label='training loss - hybrid sample')\n",
    "plt.plot(df_results['epoch'],df_results['val_loss'], label='validation loss - ttbar sample')\n",
    "plt.legend()\n",
    "plt.xlabel('Epoch')\n",
    "plt.ylabel('loss')\n",
    "plt.show()"
   ]
  },
  {
   "cell_type": "code",
   "execution_count": 17,
   "metadata": {},
   "outputs": [
    {
     "data": {
      "image/png": "[encoded data removed]",
      "text/plain": [
       "<Figure size 432x288 with 2 Axes>"
      ]
     },
     "metadata": {
      "needs_background": "light"
     },
     "output_type": "display_data"
    }
   ],
   "source": [
    "fig, ax1 = plt.subplots()\n",
    "\n",
    "color = 'tab:red'\n",
    "ax1.set_xlabel('epoch')\n",
    "ax1.set_ylabel('light flavour jet rejection', color=color)\n",
    "ax1.plot(df_results[\"epoch\"],df_results['u_rej'], '--', color=color)\n",
    "ax1.tick_params(axis='y', labelcolor=color)\n",
    "\n",
    "ax2 = ax1.twinx()  # instantiate a second axes that shares the same x-axis\n",
    "\n",
    "color = 'tab:blue'\n",
    "ax2.set_ylabel(r'$c$-jet rejection', color=color)  # we already handled the x-label with ax1\n",
    "ax2.plot(df_results[\"epoch\"], df_results['c_rej'], ':', color=color, label='std = 0.12')\n",
    "ax2.tick_params(axis='y', labelcolor=color)\n",
    "\n",
    "ax1.xaxis.set_major_locator(MaxNLocator(integer=True))\n",
    "\n",
    "fig.tight_layout()"
   ]
  },
  {
   "cell_type": "markdown",
   "metadata": {},
   "source": [
    "## Hyper parameter optimisation\n",
    "You can play with different hyper parameters and see their impact.\n",
    "The largest impact has the NN-structure itself, you can try changing the number of hidden layers and their number of nodes.\n",
    "Other hyper parameters are the learning rate, activation function, batch size\n"
   ]
  },
  {
   "cell_type": "markdown",
   "metadata": {},
   "source": [
    "## Model Evaluation"
   ]
  },
  {
   "cell_type": "code",
   "execution_count": 18,
   "metadata": {},
   "outputs": [],
   "source": [
    "b_effs = np.linspace(0.39, 1, 150)\n",
    "l_rej = 1./np.load(\"DL1r-extbeff-22M.npy\", allow_pickle=True).item().get('urej')\n",
    "c_rej = 1./np.load(\"DL1r-extbeff-22M.npy\", allow_pickle=True).item().get('crej')\n",
    "\n",
    "l_rej_Z = 1./np.load(\"DL1r-extbeff-22M-ext-Zprime.npy\", allow_pickle=True).item().get('urej')\n",
    "c_rej_Z = 1./np.load(\"DL1r-extbeff-22M-ext-Zprime.npy\", allow_pickle=True).item().get('crej')"
   ]
  },
  {
   "cell_type": "code",
   "execution_count": 19,
   "metadata": {},
   "outputs": [],
   "source": [
    "# To draw the roc curves faster, look at a subset of the test dataset. \n",
    "nTest = 50000"
   ]
  },
  {
   "cell_type": "code",
   "execution_count": 29,
   "metadata": {},
   "outputs": [
    {
     "name": "stdout",
     "output_type": "stream",
     "text": [
      "MC16d_ttbar-test-validation_sample-NN.h5\n",
      "1563/1563 [==============================] - 2s 1ms/step\n",
      "MC16d_Zprime-test-validation_sample-NN.h5\n",
      "1563/1563 [==============================] - 2s 1ms/step\n"
     ]
    },
    {
     "data": {
      "image/png": "[encoded data removed]",
      "text/plain": [
       "<Figure size 432x288 with 1 Axes>"
      ]
     },
     "metadata": {
      "needs_background": "light"
     },
     "output_type": "display_data"
    },
    {
     "data": {
      "image/png": "[encoded data removed]",
      "text/plain": [
       "<Figure size 432x288 with 1 Axes>"
      ]
     },
     "metadata": {
      "needs_background": "light"
     },
     "output_type": "display_data"
    }
   ],
   "source": [
    "dl1_leffs, dl1_ceffs, dl1_beffs, dl1_discs = [], [], [], []\n",
    "title_flag = True\n",
    "\n",
    "for testfile_name in [file_path+\"MC16d_ttbar-test-validation_sample-NN.h5\",\n",
    "                      file_path+\"MC16d_Zprime-test-validation_sample-NN.h5\"]:\n",
    "    print(testfile_name)\n",
    "    h5f_test = h5py.File(testfile_name, 'r')\n",
    "\n",
    "    X_test = h5f_test['X_test'][500000:]\n",
    "    y_test = h5f_test['Y_test'][500000:]\n",
    "    \n",
    "    h5f_test.close()\n",
    "\n",
    "    (leff, ceff, beff), d = sigBkgEff(model, X_test[:nTest], y_test[:nTest], returnDisc=True, fc=0.018)\n",
    "    dl1_leffs.append(leff)\n",
    "    dl1_ceffs.append(ceff)\n",
    "    dl1_beffs.append(beff)\n",
    "    dl1_discs.append(d)\n",
    "\n",
    "    if(title_flag == True):\n",
    "        plt.title(r'$t\\bar{t}$ sample:')\n",
    "        title_flag = False\n",
    "    else:\n",
    "        plt.title('Z\\' sample:')"
   ]
  },
  {
   "cell_type": "code",
   "execution_count": 33,
   "metadata": {},
   "outputs": [
    {
     "data": {
      "image/png": "[encoded data removed]",
      "text/plain": [
       "<Figure size 432x288 with 1 Axes>"
      ]
     },
     "metadata": {
      "needs_background": "light"
     },
     "output_type": "display_data"
    }
   ],
   "source": [
    "# ttbar\n",
    "plt.figure()\n",
    "plt.plot(dl1_leffs[0], dl1_beffs[0], color='C4', label='l-rej')\n",
    "plt.plot(l_rej, b_effs, color='C2', label='l-rej - new recommendations')\n",
    "\n",
    "# plt.figure()\n",
    "plt.plot(dl1_ceffs[0], dl1_beffs[0], \"--\", color='C4', label='c-rej')\n",
    "plt.plot(c_rej, b_effs, \"--\", color='C2', label='c-rej - new recommendations')\n",
    "\n",
    "plt.ylabel('background-rej')\n",
    "\n",
    "plt.legend()\n",
    "plt.title(r'$t\\bar{t}$- PFlow - DL1r')\n",
    "#plt.xscale(\"log\")\n",
    "#plt.xlim(0.6,1)\n",
    "#plt.ylim(0,3000) # Changed stuff to draw ROC curves instead...\n",
    "                  # Can change back... Look at original in repository.\n",
    "\n",
    "plt.show()"
   ]
  },
  {
   "cell_type": "code",
   "execution_count": 22,
   "metadata": {},
   "outputs": [
    {
     "name": "stderr",
     "output_type": "stream",
     "text": [
      "/tmp/ipykernel_3344/4189339395.py:3: RuntimeWarning: divide by zero encountered in true_divide\n",
      "  plt.plot(dl1_beffs[1], 1 / dl1_leffs[1], color='C4', label='l-rej')\n",
      "/tmp/ipykernel_3344/4189339395.py:7: RuntimeWarning: divide by zero encountered in true_divide\n",
      "  plt.plot(dl1_beffs[1], 1 / dl1_ceffs[1],\"--\", color='C4', label='c-rej')\n",
      "/tmp/ipykernel_3344/4189339395.py:17: UserWarning: Attempted to set non-positive bottom ylim on a log-scaled axis.\n",
      "Invalid limit will be ignored.\n",
      "  plt.ylim(0,3000)\n"
     ]
    },
    {
     "data": {
      "image/png": "[encoded data removed]",
      "text/plain": [
       "<Figure size 432x288 with 1 Axes>"
      ]
     },
     "metadata": {
      "needs_background": "light"
     },
     "output_type": "display_data"
    }
   ],
   "source": [
    "# Z'\n",
    "plt.figure()\n",
    "plt.plot(dl1_beffs[1], 1 / dl1_leffs[1], color='C4', label='l-rej')\n",
    "plt.plot(b_effs, 1./l_rej_Z, color='C2', label='l-rej - new recommendations')\n",
    "\n",
    "# plt.figure()\n",
    "plt.plot(dl1_beffs[1], 1 / dl1_ceffs[1],\"--\", color='C4', label='c-rej')\n",
    "plt.plot(b_effs, 1./c_rej_Z, \"--\", color='C2', label='c-rej - new recommendations')\n",
    "\n",
    "plt.ylabel('background-rej')\n",
    "plt.xlabel('b efficiency')\n",
    "\n",
    "plt.legend()\n",
    "plt.title(r\"Extended Z'- PFlow - DL1r\")\n",
    "plt.yscale(\"log\")\n",
    "plt.xlim(0.6,1)\n",
    "plt.ylim(0,3000)\n",
    "\n",
    "plt.show()"
   ]
  },
  {
   "cell_type": "code",
   "execution_count": 23,
   "metadata": {},
   "outputs": [],
   "source": [
    "import numpy as np"
   ]
  },
  {
   "cell_type": "code",
   "execution_count": 24,
   "metadata": {},
   "outputs": [
    {
     "data": {
      "text/plain": [
       "(2, 3)"
      ]
     },
     "execution_count": 24,
     "metadata": {},
     "output_type": "execute_result"
    }
   ],
   "source": [
    "a = np.array([[1,2,3],[4,5,6]])\n",
    "a.shape"
   ]
  },
  {
   "cell_type": "code",
   "execution_count": 25,
   "metadata": {},
   "outputs": [
    {
     "name": "stdout",
     "output_type": "stream",
     "text": [
      "2.8.0\n",
      "2.8.0\n",
      "\n",
      "INSTALLED VERSIONS\n",
      "------------------\n",
      "commit           : 4bfe3d07b4858144c219b9346329027024102ab6\n",
      "python           : 3.8.10.final.0\n",
      "python-bits      : 64\n",
      "OS               : Linux\n",
      "OS-release       : 5.4.0-107-generic\n",
      "Version          : #121-Ubuntu SMP Thu Mar 24 16:04:27 UTC 2022\n",
      "machine          : x86_64\n",
      "processor        : x86_64\n",
      "byteorder        : little\n",
      "LC_ALL           : None\n",
      "LANG             : pt_PT.UTF-8\n",
      "LOCALE           : pt_PT.UTF-8\n",
      "\n",
      "pandas           : 1.4.2\n",
      "numpy            : 1.22.3\n",
      "pytz             : 2022.1\n",
      "dateutil         : 2.8.2\n",
      "pip              : 20.0.2\n",
      "setuptools       : 44.0.0\n",
      "Cython           : None\n",
      "pytest           : None\n",
      "hypothesis       : None\n",
      "sphinx           : None\n",
      "blosc            : None\n",
      "feather          : None\n",
      "xlsxwriter       : None\n",
      "lxml.etree       : None\n",
      "html5lib         : None\n",
      "pymysql          : None\n",
      "psycopg2         : None\n",
      "jinja2           : 3.1.1\n",
      "IPython          : 8.2.0\n",
      "pandas_datareader: None\n",
      "bs4              : 4.10.0\n",
      "bottleneck       : None\n",
      "brotli           : None\n",
      "fastparquet      : None\n",
      "fsspec           : None\n",
      "gcsfs            : None\n",
      "markupsafe       : 2.1.1\n",
      "matplotlib       : 3.5.1\n",
      "numba            : None\n",
      "numexpr          : None\n",
      "odfpy            : None\n",
      "openpyxl         : None\n",
      "pandas_gbq       : None\n",
      "pyarrow          : None\n",
      "pyreadstat       : None\n",
      "pyxlsb           : None\n",
      "s3fs             : None\n",
      "scipy            : 1.8.0\n",
      "snappy           : None\n",
      "sqlalchemy       : None\n",
      "tables           : None\n",
      "tabulate         : None\n",
      "xarray           : None\n",
      "xlrd             : None\n",
      "xlwt             : None\n",
      "zstandard        : None\n"
     ]
    }
   ],
   "source": [
    "import tensorflow as tf\n",
    "print(tf.__version__)\n",
    "import keras as k\n",
    "print(k.__version__)\n",
    "import pandas as pd\n",
    "pd.show_versions()"
   ]
  },
  {
   "cell_type": "code",
   "execution_count": 26,
   "metadata": {},
   "outputs": [],
   "source": [
    "b_effs = np.linspace(0.39, 1, 150)\n",
    "l_rej = 1./np.load(\"DL1r-extbeff-22M.npy\", allow_pickle=True).item().get('urej')\n",
    "c_rej = 1./np.load(\"DL1r-extbeff-22M.npy\", allow_pickle=True).item().get('crej')\n",
    "\n",
    "l_rej_Z = 1./np.load(\"DL1r-extbeff-22M-ext-Zprime.npy\", allow_pickle=True).item().get('urej')\n",
    "c_rej_Z = 1./np.load(\"DL1r-extbeff-22M-ext-Zprime.npy\", allow_pickle=True).item().get('crej')"
   ]
  },
  {
   "cell_type": "code",
   "execution_count": 31,
   "metadata": {},
   "outputs": [
    {
     "name": "stdout",
     "output_type": "stream",
     "text": [
      "[5.44961633e-05 5.44961633e-05 5.64659041e-05 5.97488055e-05\n",
      " 6.04053858e-05 6.36882872e-05 6.43448675e-05 6.56580280e-05\n",
      " 6.69711886e-05 6.95975097e-05 7.28804111e-05 7.48501520e-05\n",
      " 7.68198928e-05 7.94462139e-05 8.14159548e-05 8.53554365e-05\n",
      " 8.66685970e-05 9.25778195e-05 9.65173012e-05 1.00456783e-04\n",
      " 1.03083104e-04 1.07022586e-04 1.10962067e-04 1.14244969e-04\n",
      " 1.19497611e-04 1.24093673e-04 1.25406834e-04 1.29346315e-04\n",
      " 1.36568698e-04 1.41821341e-04 1.45760822e-04 1.52326625e-04\n",
      " 1.57579267e-04 1.66771391e-04 1.70710873e-04 1.79246417e-04\n",
      " 1.86468800e-04 1.98287245e-04 2.07479369e-04 2.18641233e-04\n",
      " 2.25863616e-04 2.38338642e-04 2.52783408e-04 2.66571594e-04\n",
      " 2.82329521e-04 3.01370349e-04 3.20411177e-04 3.37482264e-04\n",
      " 3.52583611e-04 3.74250760e-04 3.94604749e-04 4.06423194e-04\n",
      " 4.34656146e-04 4.54353554e-04 4.90465469e-04 5.17385261e-04\n",
      " 5.42991892e-04 5.72538005e-04 5.96831475e-04 6.29660489e-04\n",
      " 6.61832923e-04 6.99914579e-04 7.41279137e-04 7.93148979e-04\n",
      " 8.39109598e-04 8.83757057e-04 9.47445345e-04 1.01375995e-03\n",
      " 1.07285218e-03 1.13063124e-03 1.20022875e-03 1.27113942e-03\n",
      " 1.35780802e-03 1.45038584e-03 1.56397423e-03 1.65655205e-03\n",
      " 1.77014044e-03 1.87191038e-03 2.00453960e-03 2.14045171e-03\n",
      " 2.27899015e-03 2.44182206e-03 2.60202765e-03 2.77273852e-03\n",
      " 2.96314681e-03 3.18178804e-03 3.39058057e-03 3.65780874e-03\n",
      " 3.91124873e-03 4.18832561e-03 4.49888808e-03 4.80879397e-03\n",
      " 5.15218546e-03 5.53825467e-03 5.96700159e-03 6.41150644e-03\n",
      " 6.93283118e-03 7.45546908e-03 8.03719921e-03 8.66620312e-03\n",
      " 9.31227812e-03 1.00752244e-02 1.09071116e-02 1.18315767e-02\n",
      " 1.28177602e-02 1.38906124e-02 1.50704872e-02 1.63344042e-02\n",
      " 1.77211018e-02 1.93093695e-02 2.10453677e-02 2.30315231e-02\n",
      " 2.51700050e-02 2.74746018e-02 3.01114282e-02 3.29360366e-02\n",
      " 3.61060062e-02 3.95911343e-02 4.35509700e-02 4.77898523e-02\n",
      " 5.28133480e-02 5.81073548e-02 6.41039025e-02 7.09034479e-02\n",
      " 7.86103872e-02 8.67834986e-02 9.60964333e-02 1.06374541e-01\n",
      " 1.17881110e-01 1.30661446e-01 1.44789740e-01 1.59881894e-01\n",
      " 1.76975962e-01 1.97178937e-01 2.18041776e-01 2.41018146e-01\n",
      " 2.67036453e-01 2.96357358e-01 3.27958567e-01 3.63231373e-01\n",
      " 4.00364271e-01 4.40621834e-01 4.84736150e-01 5.30294286e-01\n",
      " 5.81913314e-01 6.38444876e-01 7.00414893e-01 7.71348544e-01\n",
      " 8.58596244e-01 1.00000000e+00]\n"
     ]
    }
   ],
   "source": [
    "print(l_rej)"
   ]
  },
  {
   "cell_type": "code",
   "execution_count": null,
   "metadata": {},
   "outputs": [],
   "source": [
    "def GetRejection_At_X_WP(y_pred, y_true, WP):\n",
    "    \"\"\"Calculates the c and light rejection for 77% WP and 0.018 c-fraction.\"\"\"\n",
    "    b_index, c_index, u_index = 2, 1, 0\n",
    "    cfrac = 0.018\n",
    "    target_beff = WP\n",
    "    y_true = np.argmax(y_true, axis=1)\n",
    "    b_jets = y_pred[y_true == b_index]\n",
    "    c_jets = y_pred[y_true == c_index]\n",
    "    u_jets = y_pred[y_true == u_index]\n",
    "    bscores = np.log(b_jets[:, b_index] / (cfrac * b_jets[:, c_index] +\n",
    "                                           (1 - cfrac) * b_jets[:, u_index]))\n",
    "    cutvalue = np.percentile(bscores, 100.0 * (1.0 - target_beff))\n",
    "\n",
    "    c_eff = len(c_jets[np.log(c_jets[:, b_index] / (cfrac * c_jets[:, c_index]\n",
    "                                                    + (1 - cfrac) *\n",
    "                                                    c_jets[:, u_index])) >\n",
    "                       cutvalue]) / float(len(c_jets))\n",
    "    u_eff = len(u_jets[np.log(u_jets[:, b_index] / (cfrac *\n",
    "                                                    u_jets[:, c_index] +\n",
    "                                                    (1 - cfrac) *\n",
    "                                                    u_jets[:, u_index])) >\n",
    "                       cutvalue]) / float(len(u_jets))\n",
    "\n",
    "    if c_eff == 0 or u_eff == 0:\n",
    "        return -1, -1\n",
    "    return 1. / c_eff, 1. / u_eff\n",
    "\n",
    "for WP in b_effs:\n"
   ]
  }
 ],
 "metadata": {
  "interpreter": {
   "hash": "cbd382e0d726dea6e1cac3fc7270eac95169b42d7d4c3a2b1494b335ff623a0e"
  },
  "kernelspec": {
   "display_name": "Python 3.8.10 ('PIC_venv': venv)",
   "language": "python",
   "name": "python3"
  },
  "language_info": {
   "codemirror_mode": {
    "name": "ipython",
    "version": 3
   },
   "file_extension": ".py",
   "mimetype": "text/x-python",
   "name": "python",
   "nbconvert_exporter": "python",
   "pygments_lexer": "ipython3",
   "version": "3.8.10"
  }
 },
 "nbformat": 4,
 "nbformat_minor": 4
}
