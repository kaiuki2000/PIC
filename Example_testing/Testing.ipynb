{
 "cells": [
  {
   "cell_type": "code",
   "execution_count": 53,
   "metadata": {},
   "outputs": [],
   "source": [
    "class TestClass:\n",
    "    # Function to initiate the 'class' instance:\n",
    "    def __init__(self, Name = 'Afonso'):\n",
    "        self.name = Name\n",
    "\n",
    "    # Function to call instance:\n",
    "    def __call__(self, inputs = ''):\n",
    "        print('Class called!')\n",
    "\n",
    "    # Defining GetName method:\n",
    "    def GetName(self):\n",
    "        return(self.name)"
   ]
  },
  {
   "cell_type": "code",
   "execution_count": 54,
   "metadata": {},
   "outputs": [
    {
     "name": "stdout",
     "output_type": "stream",
     "text": [
      "This class's name is: Miguel\n",
      "Class called!\n"
     ]
    }
   ],
   "source": [
    "Class1 = TestClass('Miguel')\n",
    "print(f'This class\\'s name is: {Class1.GetName()}')\n",
    "Class1()"
   ]
  },
  {
   "cell_type": "code",
   "execution_count": 55,
   "metadata": {},
   "outputs": [
    {
     "name": "stdout",
     "output_type": "stream",
     "text": [
      "This subclass's name is: Miguel\n"
     ]
    }
   ],
   "source": [
    "class TestSubclass(TestClass):\n",
    "    def __init__(self, Name):\n",
    "        super().__init__(Name)\n",
    "\n",
    "Class2 = TestSubclass('Miguel')\n",
    "print(f'This subclass\\'s name is: {Class2.GetName()}')"
   ]
  },
  {
   "cell_type": "code",
   "execution_count": 56,
   "metadata": {},
   "outputs": [
    {
     "name": "stdout",
     "output_type": "stream",
     "text": [
      "<class 'set'>\n"
     ]
    }
   ],
   "source": [
    "fruits = ['apple', 'banana', 'pear']\n",
    "colors = ['red', 'yellow', 'green']\n",
    "fruit_colors = zip(fruits, colors)\n",
    "print(type({fruit_colors}))"
   ]
  },
  {
   "cell_type": "code",
   "execution_count": 57,
   "metadata": {},
   "outputs": [
    {
     "name": "stdout",
     "output_type": "stream",
     "text": [
      "[1]\n"
     ]
    }
   ],
   "source": [
    "a = {(1,2) : [1]}\n",
    "print(a[(1,2)])"
   ]
  },
  {
   "cell_type": "code",
   "execution_count": 83,
   "metadata": {},
   "outputs": [
    {
     "name": "stdout",
     "output_type": "stream",
     "text": [
      "{(0, 0): [], (0, 1): [], (0, 2): [], (1, 0): [], (1, 1): [], (1, 2): [], (2, 0): [], (2, 1): [], (2, 2): [], (3, 0): [], (3, 1): [], (3, 2): [], (4, 0): [], (4, 1): [], (4, 2): [], (5, 0): [], (5, 1): [], (5, 2): [], (6, 0): [], (6, 1): [], (6, 2): [], (7, 0): [], (7, 1): [], (7, 2): [], (8, 0): [], (8, 1): [], (8, 2): [], (9, 0): [], (9, 1): [], (9, 2): [], (10, 0): [], (10, 1): [], (10, 2): [], (11, 0): [], (11, 1): [], (11, 2): [], (12, 0): [], (12, 1): [], (12, 2): [], (13, 0): [], (13, 1): [], (13, 2): [], (14, 0): [], (14, 1): [], (14, 2): [], (15, 0): [], (15, 1): [], (15, 2): [], (16, 0): [], (16, 1): [], (16, 2): [], (17, 0): [], (17, 1): [], (17, 2): [], (18, 0): [], (18, 1): [], (18, 2): [], (19, 0): [], (19, 1): [], (19, 2): [], (20, 0): [], (20, 1): [], (20, 2): [], (21, 0): [], (21, 1): [], (21, 2): [], (22, 0): [], (22, 1): [], (22, 2): [], (23, 0): [], (23, 1): [], (23, 2): [], (24, 0): [], (24, 1): [], (24, 2): [], (25, 0): [], (25, 1): [], (25, 2): [], (26, 0): [], (26, 1): [], (26, 2): [], (27, 0): [], (27, 1): [], (27, 2): [], (28, 0): [], (28, 1): [], (28, 2): [], (29, 0): [], (29, 1): [], (29, 2): [], (30, 0): [], (30, 1): [], (30, 2): [], (31, 0): [], (31, 1): [], (31, 2): [], (32, 0): [], (32, 1): [], (32, 2): [], (33, 0): [], (33, 1): [], (33, 2): [], (34, 0): [], (34, 1): [], (34, 2): [], (35, 0): [], (35, 1): [], (35, 2): [], (36, 0): [], (36, 1): [], (36, 2): [], (37, 0): [], (37, 1): [], (37, 2): [], (38, 0): [], (38, 1): [], (38, 2): [], (39, 0): [], (39, 1): [], (39, 2): [], (40, 0): [], (40, 1): [], (40, 2): [], (41, 0): [], (41, 1): [], (41, 2): [], (42, 0): [], (42, 1): [], (42, 2): []}\n"
     ]
    }
   ],
   "source": [
    "import numpy as np\n",
    "pt_bins = np.concatenate((np.linspace(0, 6, 35),\n",
    "                          np.linspace(6.5, 60, 8)))\n",
    "eta_bins = np.linspace(0, 2.5, 3)\n",
    "c_loc_indices = { (pti, etai) : [] for pti,_ in enumerate(pt_bins[::-1]) for etai,_ in enumerate(eta_bins[::-1])} # [::-1] is useless here...\n",
    "b_loc_indices = { (pti, etai) : [] for pti,_ in enumerate(pt_bins[::-1]) for etai,_ in enumerate(eta_bins[::-1])}\n",
    "u_loc_indices = { (pti, etai) : [] for pti,_ in enumerate(pt_bins[::-1]) for etai,_ in enumerate(eta_bins[::-1])}\n",
    "print(c_loc_indices)"
   ]
  },
  {
   "cell_type": "code",
   "execution_count": null,
   "metadata": {},
   "outputs": [],
   "source": [
    "print(pt_bins)\n",
    "print(pt_bins[::-1])"
   ]
  },
  {
   "cell_type": "code",
   "execution_count": null,
   "metadata": {},
   "outputs": [],
   "source": [
    "for i,x in enumerate(pt_bins):\n",
    "    print(i ,x)"
   ]
  },
  {
   "cell_type": "code",
   "execution_count": null,
   "metadata": {},
   "outputs": [],
   "source": [
    "for i,x in enumerate(pt_bins[::-1]):\n",
    "    print(i ,x)"
   ]
  },
  {
   "cell_type": "code",
   "execution_count": 147,
   "metadata": {},
   "outputs": [
    {
     "name": "stdout",
     "output_type": "stream",
     "text": [
      "[0. 0. 0. 0. 0. 1. 0. 0. 0. 0. 0. 1. 0. 0. 0. 0. 0. 1. 0. 0. 0. 0. 1. 0.\n",
      " 0. 0. 0. 0. 1. 0. 0. 0. 0. 0. 0. 0. 0. 0. 0. 0. 0. 0.]\n",
      "[0. 0. 0. 0. 0. 0. 0. 0. 0. 0. 0. 2. 0. 0. 0. 0. 0. 0. 0. 0. 0. 0. 0. 0.\n",
      " 0. 0. 0. 0. 0. 0. 0. 0. 0. 0. 0. 0. 0. 0. 0. 0. 0. 0.]\n"
     ]
    }
   ],
   "source": [
    "histvals_b, _, _ = np.histogram2d([0.1, 0.2, 0.3, 0.4, 0.5, 2.49, 2.21], [1, 2, 3, 4, 5, 2, 2],\n",
    "                                [eta_bins, pt_bins])\n",
    "for a in histvals_b:\n",
    "    print(a)\n",
    "# print(histvals_b)"
   ]
  },
  {
   "cell_type": "code",
   "execution_count": 148,
   "metadata": {},
   "outputs": [
    {
     "name": "stdout",
     "output_type": "stream",
     "text": [
      "[(5, 0), (11, 0), (17, 0), (22, 0), (28, 0), (11, 1), (11, 1)]\n",
      "[5, 6]\n",
      "[0.   1.25 2.5 ]\n"
     ]
    }
   ],
   "source": [
    "c_locations_pt = np.digitize([1, 2, 3, 4, 5, 2, 2], pt_bins) - 1\n",
    "c_locations_eta = np.digitize([0.1, 0.2, 0.3, 0.4, 0.5, 2.49, 2.21], eta_bins) - 1\n",
    "c_locations = zip(c_locations_pt, c_locations_eta)\n",
    "c_locations = list(c_locations)\n",
    "print(c_locations)\n",
    "\n",
    "c_loc_indices = { (pti, etai) : [] for pti,_ in enumerate(pt_bins[::-1]) for etai,_ in enumerate(eta_bins[::-1])} # [::-1] is useless here...\n",
    "\n",
    "for i, x in enumerate(c_locations):\n",
    "        c_loc_indices[x].append(i)\n",
    "\n",
    "c_jet_indices = []\n",
    "c_indices_for_bin = c_loc_indices[(11, 1)][0:2]\n",
    "c_jet_indices += c_indices_for_bin\n",
    "print(c_jet_indices)\n",
    "print(np.linspace(0, 2.5, 3))\n"
   ]
  },
  {
   "cell_type": "code",
   "execution_count": 151,
   "metadata": {},
   "outputs": [
    {
     "name": "stdout",
     "output_type": "stream",
     "text": [
      "[0.   1.25 2.5 ]\n",
      "(0, 0) njets =  0\n",
      "[]\n",
      "(0, 1) njets =  0\n",
      "[]\n",
      "(1, 0) njets =  0\n",
      "[]\n",
      "(1, 1) njets =  0\n",
      "[]\n",
      "(2, 0) njets =  0\n",
      "[]\n",
      "(2, 1) njets =  0\n",
      "[]\n",
      "(3, 0) njets =  0\n",
      "[]\n",
      "(3, 1) njets =  0\n",
      "[]\n",
      "(4, 0) njets =  0\n",
      "[]\n",
      "(4, 1) njets =  0\n",
      "[]\n",
      "(5, 0) njets =  1\n",
      "[0]\n",
      "(5, 1) njets =  0\n",
      "[0]\n",
      "(6, 0) njets =  0\n",
      "[0]\n",
      "(6, 1) njets =  0\n",
      "[0]\n",
      "(7, 0) njets =  0\n",
      "[0]\n",
      "(7, 1) njets =  0\n",
      "[0]\n",
      "(8, 0) njets =  0\n",
      "[0]\n",
      "(8, 1) njets =  0\n",
      "[0]\n",
      "(9, 0) njets =  0\n",
      "[0]\n",
      "(9, 1) njets =  0\n",
      "[0]\n",
      "(10, 0) njets =  0\n",
      "[0]\n",
      "(10, 1) njets =  0\n",
      "[0]\n",
      "(11, 0) njets =  1\n",
      "[0, 1]\n",
      "(11, 1) njets =  2\n",
      "[0, 1, 5, 6]\n",
      "(12, 0) njets =  0\n",
      "[0, 1, 5, 6]\n",
      "(12, 1) njets =  0\n",
      "[0, 1, 5, 6]\n",
      "(13, 0) njets =  0\n",
      "[0, 1, 5, 6]\n",
      "(13, 1) njets =  0\n",
      "[0, 1, 5, 6]\n",
      "(14, 0) njets =  0\n",
      "[0, 1, 5, 6]\n",
      "(14, 1) njets =  0\n",
      "[0, 1, 5, 6]\n",
      "(15, 0) njets =  0\n",
      "[0, 1, 5, 6]\n",
      "(15, 1) njets =  0\n",
      "[0, 1, 5, 6]\n",
      "(16, 0) njets =  0\n",
      "[0, 1, 5, 6]\n",
      "(16, 1) njets =  0\n",
      "[0, 1, 5, 6]\n",
      "(17, 0) njets =  1\n",
      "[0, 1, 5, 6, 2]\n",
      "(17, 1) njets =  0\n",
      "[0, 1, 5, 6, 2]\n",
      "(18, 0) njets =  0\n",
      "[0, 1, 5, 6, 2]\n",
      "(18, 1) njets =  0\n",
      "[0, 1, 5, 6, 2]\n",
      "(19, 0) njets =  0\n",
      "[0, 1, 5, 6, 2]\n",
      "(19, 1) njets =  0\n",
      "[0, 1, 5, 6, 2]\n",
      "(20, 0) njets =  0\n",
      "[0, 1, 5, 6, 2]\n",
      "(20, 1) njets =  0\n",
      "[0, 1, 5, 6, 2]\n",
      "(21, 0) njets =  0\n",
      "[0, 1, 5, 6, 2]\n",
      "(21, 1) njets =  0\n",
      "[0, 1, 5, 6, 2]\n",
      "(22, 0) njets =  1\n",
      "[0, 1, 5, 6, 2, 3]\n",
      "(22, 1) njets =  0\n",
      "[0, 1, 5, 6, 2, 3]\n",
      "(23, 0) njets =  0\n",
      "[0, 1, 5, 6, 2, 3]\n",
      "(23, 1) njets =  0\n",
      "[0, 1, 5, 6, 2, 3]\n",
      "(24, 0) njets =  0\n",
      "[0, 1, 5, 6, 2, 3]\n",
      "(24, 1) njets =  0\n",
      "[0, 1, 5, 6, 2, 3]\n",
      "(25, 0) njets =  0\n",
      "[0, 1, 5, 6, 2, 3]\n",
      "(25, 1) njets =  0\n",
      "[0, 1, 5, 6, 2, 3]\n",
      "(26, 0) njets =  0\n",
      "[0, 1, 5, 6, 2, 3]\n",
      "(26, 1) njets =  0\n",
      "[0, 1, 5, 6, 2, 3]\n",
      "(27, 0) njets =  0\n",
      "[0, 1, 5, 6, 2, 3]\n",
      "(27, 1) njets =  0\n",
      "[0, 1, 5, 6, 2, 3]\n",
      "(28, 0) njets =  1\n",
      "[0, 1, 5, 6, 2, 3, 4]\n",
      "(28, 1) njets =  0\n",
      "[0, 1, 5, 6, 2, 3, 4]\n",
      "(29, 0) njets =  0\n",
      "[0, 1, 5, 6, 2, 3, 4]\n",
      "(29, 1) njets =  0\n",
      "[0, 1, 5, 6, 2, 3, 4]\n",
      "(30, 0) njets =  0\n",
      "[0, 1, 5, 6, 2, 3, 4]\n",
      "(30, 1) njets =  0\n",
      "[0, 1, 5, 6, 2, 3, 4]\n",
      "(31, 0) njets =  0\n",
      "[0, 1, 5, 6, 2, 3, 4]\n",
      "(31, 1) njets =  0\n",
      "[0, 1, 5, 6, 2, 3, 4]\n",
      "(32, 0) njets =  0\n",
      "[0, 1, 5, 6, 2, 3, 4]\n",
      "(32, 1) njets =  0\n",
      "[0, 1, 5, 6, 2, 3, 4]\n",
      "(33, 0) njets =  0\n",
      "[0, 1, 5, 6, 2, 3, 4]\n",
      "(33, 1) njets =  0\n",
      "[0, 1, 5, 6, 2, 3, 4]\n",
      "(34, 0) njets =  0\n",
      "[0, 1, 5, 6, 2, 3, 4]\n",
      "(34, 1) njets =  0\n",
      "[0, 1, 5, 6, 2, 3, 4]\n",
      "(35, 0) njets =  0\n",
      "[0, 1, 5, 6, 2, 3, 4]\n",
      "(35, 1) njets =  0\n",
      "[0, 1, 5, 6, 2, 3, 4]\n",
      "(36, 0) njets =  0\n",
      "[0, 1, 5, 6, 2, 3, 4]\n",
      "(36, 1) njets =  0\n",
      "[0, 1, 5, 6, 2, 3, 4]\n",
      "(37, 0) njets =  0\n",
      "[0, 1, 5, 6, 2, 3, 4]\n",
      "(37, 1) njets =  0\n",
      "[0, 1, 5, 6, 2, 3, 4]\n",
      "(38, 0) njets =  0\n",
      "[0, 1, 5, 6, 2, 3, 4]\n",
      "(38, 1) njets =  0\n",
      "[0, 1, 5, 6, 2, 3, 4]\n",
      "(39, 0) njets =  0\n",
      "[0, 1, 5, 6, 2, 3, 4]\n",
      "(39, 1) njets =  0\n",
      "[0, 1, 5, 6, 2, 3, 4]\n",
      "(40, 0) njets =  0\n",
      "[0, 1, 5, 6, 2, 3, 4]\n",
      "(40, 1) njets =  0\n",
      "[0, 1, 5, 6, 2, 3, 4]\n",
      "(41, 0) njets =  0\n",
      "[0, 1, 5, 6, 2, 3, 4]\n",
      "(41, 1) njets =  0\n",
      "[0, 1, 5, 6, 2, 3, 4]\n",
      "[0, 1, 5, 6, 2, 3, 4]\n",
      "[0 1 2 3 4 5 6]\n"
     ]
    }
   ],
   "source": [
    "print(np.linspace(0, 2.5, 3))\n",
    "cjet_indices = []\n",
    "for pt_bin_i in range(len(pt_bins) - 1):\n",
    "        for eta_bin_i in range(len(eta_bins) - 1):\n",
    "            loc = (pt_bin_i, eta_bin_i)\n",
    "\n",
    "            nbjets = int(histvals_b[eta_bin_i][pt_bin_i])\n",
    "\n",
    "            njets = min([nbjets]) # try changing to 1. That will cut out the index 6! -> not selected!\n",
    "                                  # then cjet_indices will contain the indices of c_locations to consider!\n",
    "            print(loc, 'njets = ', njets)\n",
    "            c_indices_for_bin = c_loc_indices[loc][0:njets]\n",
    "\n",
    "            cjet_indices += c_indices_for_bin\n",
    "            print(cjet_indices)\n",
    "\n",
    "print(cjet_indices)\n",
    "cjet_indices.sort()\n",
    "print(np.array(cjet_indices))"
   ]
  },
  {
   "cell_type": "code",
   "execution_count": 7,
   "metadata": {},
   "outputs": [
    {
     "name": "stdout",
     "output_type": "stream",
     "text": [
      "[1 2 4]\n"
     ]
    }
   ],
   "source": [
    "import numpy as np\n",
    "a = np.array([1,2,3,4])\n",
    "a = a[[0,1,3]]\n",
    "print(a)"
   ]
  },
  {
   "cell_type": "code",
   "execution_count": 10,
   "metadata": {},
   "outputs": [
    {
     "name": "stdout",
     "output_type": "stream",
     "text": [
      "9.999099999999999\n"
     ]
    }
   ],
   "source": [
    "maxval = np.percentile([1,2,3,4,5,6,7,8,9,10],99.99)\n",
    "print(maxval)"
   ]
  },
  {
   "cell_type": "code",
   "execution_count": 5,
   "metadata": {},
   "outputs": [],
   "source": [
    "dict = {'a' : 1, 'b' : 2, 'c' : 3}"
   ]
  },
  {
   "cell_type": "code",
   "execution_count": 11,
   "metadata": {},
   "outputs": [
    {
     "data": {
      "text/plain": [
       "[4]"
      ]
     },
     "execution_count": 11,
     "metadata": {},
     "output_type": "execute_result"
    }
   ],
   "source": [
    "a = [0,1,2,3,4]\n",
    "a[:-2:-1]"
   ]
  },
  {
   "cell_type": "code",
   "execution_count": 31,
   "metadata": {},
   "outputs": [
    {
     "data": {
      "text/plain": [
       "[3]"
      ]
     },
     "execution_count": 31,
     "metadata": {},
     "output_type": "execute_result"
    }
   ],
   "source": [
    "a = [\n",
    "    [1,2,3],\n",
    "    [4,5,6],\n",
    "    [7,8,9]\n",
    "]\n",
    "# a[:0:-1]\n",
    "\n",
    "a= [1, 2, 3, 4, 5]\n",
    "a[-3:1:-1]"
   ]
  },
  {
   "cell_type": "code",
   "execution_count": 34,
   "metadata": {},
   "outputs": [
    {
     "data": {
      "text/plain": [
       "[0, 1, 2, 3, 4]"
      ]
     },
     "execution_count": 34,
     "metadata": {},
     "output_type": "execute_result"
    }
   ],
   "source": [
    "list(range(5))"
   ]
  },
  {
   "cell_type": "code",
   "execution_count": 48,
   "metadata": {},
   "outputs": [
    {
     "name": "stdout",
     "output_type": "stream",
     "text": [
      "(4, 3)\n",
      "(2, 3, 3)\n"
     ]
    }
   ],
   "source": [
    "import numpy as np\n",
    "a = np.array([\n",
    "    [1,2,3],\n",
    "    [4,5,6],\n",
    "    [7,8,9],\n",
    "    [10,11,12]\n",
    "])\n",
    "\n",
    "print(a.shape)\n",
    "\n",
    "b = [\n",
    "    [\n",
    "        [1,2,3],\n",
    "        [4,5,6],\n",
    "        [1,2,3]\n",
    "    ],\n",
    "    [\n",
    "        [7,8,9],\n",
    "        [10,11,12],\n",
    "        [7,8,9]\n",
    "    ]\n",
    "]\n",
    "\n",
    "print(np.array(b).shape)"
   ]
  },
  {
   "cell_type": "code",
   "execution_count": null,
   "metadata": {},
   "outputs": [],
   "source": []
  }
 ],
 "metadata": {
  "interpreter": {
   "hash": "cbd382e0d726dea6e1cac3fc7270eac95169b42d7d4c3a2b1494b335ff623a0e"
  },
  "kernelspec": {
   "display_name": "Python 3.8.10 ('PIC_venv': venv)",
   "language": "python",
   "name": "python3"
  },
  "language_info": {
   "codemirror_mode": {
    "name": "ipython",
    "version": 3
   },
   "file_extension": ".py",
   "mimetype": "text/x-python",
   "name": "python",
   "nbconvert_exporter": "python",
   "pygments_lexer": "ipython3",
   "version": "3.8.10"
  },
  "orig_nbformat": 4
 },
 "nbformat": 4,
 "nbformat_minor": 2
}
